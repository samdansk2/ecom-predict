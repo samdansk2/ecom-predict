{
 "cells": [
  {
   "cell_type": "markdown",
   "id": "cfe9eda9",
   "metadata": {},
   "source": [
    "### Purpose: Clean and preprocess data for product success prediction"
   ]
  },
  {
   "cell_type": "code",
   "execution_count": 6,
   "id": "567e8a73",
   "metadata": {},
   "outputs": [],
   "source": [
    "import pandas as pd\n",
    "import numpy as np\n",
    "import matplotlib.pyplot as plt\n",
    "import seaborn as sns\n",
    "from sklearn.preprocessing import StandardScaler"
   ]
  },
  {
   "cell_type": "code",
   "execution_count": 18,
   "id": "95a58ef5",
   "metadata": {},
   "outputs": [],
   "source": [
    "# --- Load Data ---\n",
    "df = pd.read_csv('../data/raw/ecommerce_sales.csv')"
   ]
  },
  {
   "cell_type": "code",
   "execution_count": 13,
   "id": "8656bfc0",
   "metadata": {},
   "outputs": [
    {
     "name": "stdout",
     "output_type": "stream",
     "text": [
      "product_id        0\n",
      "product_name      0\n",
      "category          0\n",
      "price             0\n",
      "review_score      0\n",
      "review_count      0\n",
      "sales_month_1     0\n",
      "sales_month_2     0\n",
      "sales_month_3     0\n",
      "sales_month_4     0\n",
      "sales_month_5     0\n",
      "sales_month_6     0\n",
      "sales_month_7     0\n",
      "sales_month_8     0\n",
      "sales_month_9     0\n",
      "sales_month_10    0\n",
      "sales_month_11    0\n",
      "sales_month_12    0\n",
      "dtype: int64\n"
     ]
    }
   ],
   "source": [
    "# --- Check Missing Values ---\n",
    "print(df.isnull().sum())"
   ]
  },
  {
   "cell_type": "code",
   "execution_count": 14,
   "id": "cc84d2fb",
   "metadata": {},
   "outputs": [],
   "source": [
    "# --- Create Total and Average Sales ---\n",
    "sales_cols = [col for col in df.columns if 'sales_month' in col]\n",
    "df['total_sales'] = df[sales_cols].sum(axis=1)\n",
    "df['avg_sales_per_month'] = df[sales_cols].mean(axis=1)"
   ]
  },
  {
   "cell_type": "code",
   "execution_count": 15,
   "id": "8926b67d",
   "metadata": {},
   "outputs": [],
   "source": [
    "# --- Define Success Target ---\n",
    "threshold = df['total_sales'].median()\n",
    "df['success'] = np.where(df['total_sales'] > threshold, 1, 0)"
   ]
  },
  {
   "cell_type": "code",
   "execution_count": 16,
   "id": "bb00d321",
   "metadata": {},
   "outputs": [],
   "source": [
    "# --- Normalize Numeric Features ---\n",
    "num_cols = ['price', 'review_score', 'review_count', 'total_sales', 'avg_sales_per_month']\n",
    "scaler = StandardScaler()\n",
    "df[num_cols] = scaler.fit_transform(df[num_cols])"
   ]
  },
  {
   "cell_type": "code",
   "execution_count": 17,
   "id": "c325fcda",
   "metadata": {},
   "outputs": [],
   "source": [
    "# --- Encode Category ---\n",
    "df = pd.get_dummies(df, columns=['category'], drop_first=True)\n",
    "\n",
    "# --- Save Processed Data ---\n",
    "df.to_csv('../data/processed/ecommerce_sales_preprocessed.csv', index=False)"
   ]
  }
 ],
 "metadata": {
  "kernelspec": {
   "display_name": "dsa-python-sales-analysis",
   "language": "python",
   "name": "python3"
  },
  "language_info": {
   "codemirror_mode": {
    "name": "ipython",
    "version": 3
   },
   "file_extension": ".py",
   "mimetype": "text/x-python",
   "name": "python",
   "nbconvert_exporter": "python",
   "pygments_lexer": "ipython3",
   "version": "3.11.13"
  }
 },
 "nbformat": 4,
 "nbformat_minor": 5
}
