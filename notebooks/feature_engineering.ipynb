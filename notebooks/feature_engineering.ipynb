{
 "cells": [
  {
   "cell_type": "code",
   "execution_count": 1,
   "id": "ee88a95d",
   "metadata": {},
   "outputs": [],
   "source": [
    "import pandas as pd\n",
    "import numpy as np"
   ]
  },
  {
   "cell_type": "code",
   "execution_count": 3,
   "id": "a4724b7d",
   "metadata": {},
   "outputs": [],
   "source": [
    "# --- Load Preprocessed Data ---\n",
    "df = pd.read_csv('../data/processed/ecommerce_sales_preprocessed.csv')"
   ]
  },
  {
   "cell_type": "code",
   "execution_count": 4,
   "id": "231edda4",
   "metadata": {},
   "outputs": [],
   "source": [
    "# --- Load Raw Data to Get Original Columns (for monthly sales) ---\n",
    "raw_df = pd.read_csv('../data/raw/ecommerce_sales.csv')\n",
    "sales_cols = [col for col in raw_df.columns if 'sales_month' in col]"
   ]
  },
  {
   "cell_type": "code",
   "execution_count": 5,
   "id": "6d697ad2",
   "metadata": {},
   "outputs": [],
   "source": [
    "# Merge raw sales with processed features\n",
    "df[sales_cols] = raw_df[sales_cols]\n",
    "\n",
    "# --- Feature: Sales Variability ---\n",
    "df['sales_variability'] = raw_df[sales_cols].std(axis=1)"
   ]
  },
  {
   "cell_type": "code",
   "execution_count": 6,
   "id": "5302c91b",
   "metadata": {},
   "outputs": [],
   "source": [
    "# --- Feature: Sales Trend (growth ratio) ---\n",
    "first_3_months = raw_df[sales_cols[:3]].mean(axis=1)\n",
    "last_3_months = raw_df[sales_cols[-3:]].mean(axis=1)\n",
    "df['sales_trend'] = np.where(first_3_months > 0, last_3_months / first_3_months, 1)"
   ]
  },
  {
   "cell_type": "code",
   "execution_count": 7,
   "id": "2bf30ab3",
   "metadata": {},
   "outputs": [],
   "source": [
    "# --- Feature: Price Bucket ---\n",
    "price_bins = [-np.inf, raw_df['price'].quantile(0.33), raw_df['price'].quantile(0.66), np.inf]\n",
    "price_labels = ['Low', 'Medium', 'High']\n",
    "df['price_bucket'] = pd.cut(raw_df['price'], bins=price_bins, labels=price_labels)"
   ]
  },
  {
   "cell_type": "code",
   "execution_count": 8,
   "id": "e32f1fa7",
   "metadata": {},
   "outputs": [],
   "source": [
    "# One-hot encode price bucket\n",
    "df = pd.get_dummies(df, columns=['price_bucket'], drop_first=True)\n",
    "\n",
    "# --- Save Enhanced Dataset ---\n",
    "df.to_csv('../data/processed/ecommerce_sales_featured.csv', index=False)"
   ]
  }
 ],
 "metadata": {
  "kernelspec": {
   "display_name": "dsa-python-sales-analysis",
   "language": "python",
   "name": "python3"
  },
  "language_info": {
   "codemirror_mode": {
    "name": "ipython",
    "version": 3
   },
   "file_extension": ".py",
   "mimetype": "text/x-python",
   "name": "python",
   "nbconvert_exporter": "python",
   "pygments_lexer": "ipython3",
   "version": "3.11.13"
  }
 },
 "nbformat": 4,
 "nbformat_minor": 5
}
