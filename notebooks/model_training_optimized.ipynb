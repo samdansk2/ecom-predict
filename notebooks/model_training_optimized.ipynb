{
 "cells": [
  {
   "cell_type": "markdown",
   "metadata": {},
   "source": [
    "# Model Optimization with Cross-Validation and Hyperparameter Tuning\n",
    "\n",
    "This notebook implements:\n",
    "1. Stratified K-Fold Cross-Validation\n",
    "2. Hyperparameter Optimization using RandomizedSearchCV\n",
    "3. Optimized Ensemble Model\n",
    "4. Comprehensive Model Evaluation"
   ]
  },
  {
   "cell_type": "code",
   "execution_count": 1,
   "metadata": {},
   "outputs": [
    {
     "name": "stdout",
     "output_type": "stream",
     "text": [
      "All libraries imported successfully!\n"
     ]
    }
   ],
   "source": [
    "# Import required libraries\n",
    "import pandas as pd\n",
    "import numpy as np\n",
    "import warnings\n",
    "warnings.filterwarnings('ignore')\n",
    "\n",
    "# Model imports\n",
    "from sklearn.model_selection import (\n",
    "    train_test_split, \n",
    "    StratifiedKFold, \n",
    "    cross_val_score,\n",
    "    RandomizedSearchCV,\n",
    "    GridSearchCV\n",
    ")\n",
    "from sklearn.metrics import (\n",
    "    accuracy_score, \n",
    "    f1_score, \n",
    "    roc_auc_score, \n",
    "    classification_report,\n",
    "    confusion_matrix\n",
    ")\n",
    "from sklearn.linear_model import LogisticRegression\n",
    "from sklearn.neural_network import MLPClassifier\n",
    "import xgboost as xgb\n",
    "\n",
    "# For hyperparameter distributions\n",
    "from scipy.stats import uniform, randint\n",
    "\n",
    "# Visualization\n",
    "import matplotlib.pyplot as plt\n",
    "import seaborn as sns\n",
    "\n",
    "# Model persistence\n",
    "import joblib\n",
    "import os\n",
    "from datetime import datetime\n",
    "\n",
    "print(\"All libraries imported successfully!\")"
   ]
  },
  {
   "cell_type": "markdown",
   "metadata": {},
   "source": [
    "## 1. Load and Prepare Data"
   ]
  },
  {
   "cell_type": "code",
   "execution_count": 2,
   "metadata": {},
   "outputs": [
    {
     "name": "stdout",
     "output_type": "stream",
     "text": [
      "Dataset shape: (1000, 797)\n",
      "Training set size: (800, 796)\n",
      "Test set size: (200, 796)\n",
      "Class distribution in training: {1: 0.5, 0: 0.5}\n"
     ]
    }
   ],
   "source": [
    "# Load the dataset with embeddings\n",
    "df = pd.read_csv('../data/processed/ecommerce_sales_with_embeddings.csv')\n",
    "print(f\"Dataset shape: {df.shape}\")\n",
    "\n",
    "# Split features and target\n",
    "X = df.drop(columns=['success'])\n",
    "y = df['success']\n",
    "\n",
    "# Create train-test split (we'll use CV on train set)\n",
    "X_train, X_test, y_train, y_test = train_test_split(\n",
    "    X, y, test_size=0.2, stratify=y, random_state=42\n",
    ")\n",
    "\n",
    "print(f\"Training set size: {X_train.shape}\")\n",
    "print(f\"Test set size: {X_test.shape}\")\n",
    "print(f\"Class distribution in training: {y_train.value_counts(normalize=True).to_dict()}\")"
   ]
  },
  {
   "cell_type": "markdown",
   "metadata": {},
   "source": [
    "## 2. Define Cross-Validation Strategy"
   ]
  },
  {
   "cell_type": "code",
   "execution_count": 3,
   "metadata": {},
   "outputs": [
    {
     "name": "stdout",
     "output_type": "stream",
     "text": [
      "Cross-validation strategy: 5-Fold Stratified K-Fold\n",
      "This ensures each fold maintains the same class distribution as the original dataset\n"
     ]
    }
   ],
   "source": [
    "# Define Stratified K-Fold for maintaining class balance\n",
    "cv_strategy = StratifiedKFold(n_splits=5, shuffle=True, random_state=42)\n",
    "\n",
    "print(\"Cross-validation strategy: 5-Fold Stratified K-Fold\")\n",
    "print(\"This ensures each fold maintains the same class distribution as the original dataset\")"
   ]
  },
  {
   "cell_type": "markdown",
   "metadata": {},
   "source": [
    "## 3. Baseline Models with Cross-Validation\n",
    "\n",
    "First, let's evaluate the baseline models with their default/hardcoded parameters using cross-validation."
   ]
  },
  {
   "cell_type": "code",
   "execution_count": 4,
   "metadata": {},
   "outputs": [
    {
     "name": "stdout",
     "output_type": "stream",
     "text": [
      "Evaluating baseline models with 5-fold cross-validation...\n",
      "\n",
      "------------------------------------------------------------\n",
      "XGBoost (Baseline):\n",
      "  ROC-AUC: 0.9982 (+/- 0.0074)\n",
      "  Individual fold scores: ['1.0000', '1.0000', '1.0000', '1.0000', '0.9908']\n",
      "------------------------------------------------------------\n",
      "Neural Network (Baseline):\n",
      "  ROC-AUC: 0.8237 (+/- 0.0613)\n",
      "  Individual fold scores: ['0.8427', '0.7916', '0.8697', '0.8252', '0.7892']\n",
      "------------------------------------------------------------\n",
      "Logistic Regression (Baseline):\n",
      "  ROC-AUC: 0.9982 (+/- 0.0024)\n",
      "  Individual fold scores: ['0.9991', '0.9966', '1.0000', '0.9973', '0.9981']\n",
      "------------------------------------------------------------\n"
     ]
    }
   ],
   "source": [
    "# Define baseline models\n",
    "baseline_models = {\n",
    "    'XGBoost (Baseline)': xgb.XGBClassifier(\n",
    "        n_estimators=300,\n",
    "        learning_rate=0.05,\n",
    "        max_depth=6,\n",
    "        subsample=0.8,\n",
    "        colsample_bytree=0.8,\n",
    "        random_state=42,\n",
    "        eval_metric='logloss',\n",
    "        use_label_encoder=False\n",
    "    ),\n",
    "    'Neural Network (Baseline)': MLPClassifier(\n",
    "        hidden_layer_sizes=(256, 128),\n",
    "        activation='relu',\n",
    "        solver='adam',\n",
    "        max_iter=100,  # Increased from 20 to avoid convergence warning\n",
    "        random_state=42,\n",
    "        early_stopping=True,\n",
    "        validation_fraction=0.1\n",
    "    ),\n",
    "    'Logistic Regression (Baseline)': LogisticRegression(\n",
    "        max_iter=1000,\n",
    "        random_state=42\n",
    "    )\n",
    "}\n",
    "\n",
    "# Evaluate baseline models with cross-validation\n",
    "baseline_scores = {}\n",
    "\n",
    "print(\"Evaluating baseline models with 5-fold cross-validation...\\n\")\n",
    "print(\"-\" * 60)\n",
    "\n",
    "for name, model in baseline_models.items():\n",
    "    # Perform cross-validation\n",
    "    cv_scores = cross_val_score(\n",
    "        model, X_train, y_train,\n",
    "        cv=cv_strategy,\n",
    "        scoring='roc_auc',\n",
    "        n_jobs=-1\n",
    "    )\n",
    "    \n",
    "    baseline_scores[name] = {\n",
    "        'mean': cv_scores.mean(),\n",
    "        'std': cv_scores.std(),\n",
    "        'scores': cv_scores\n",
    "    }\n",
    "    \n",
    "    print(f\"{name}:\")\n",
    "    print(f\"  ROC-AUC: {cv_scores.mean():.4f} (+/- {cv_scores.std() * 2:.4f})\")\n",
    "    print(f\"  Individual fold scores: {[f'{score:.4f}' for score in cv_scores]}\")\n",
    "    print(\"-\" * 60)"
   ]
  },
  {
   "cell_type": "markdown",
   "metadata": {},
   "source": [
    "## 4. Hyperparameter Optimization for XGBoost\n",
    "\n",
    "Using RandomizedSearchCV for efficient hyperparameter search."
   ]
  },
  {
   "cell_type": "code",
   "execution_count": 5,
   "metadata": {},
   "outputs": [
    {
     "name": "stdout",
     "output_type": "stream",
     "text": [
      "Starting XGBoost hyperparameter optimization...\n",
      "This may take 5-10 minutes...\n",
      "\n",
      "Fitting 5 folds for each of 50 candidates, totalling 250 fits\n",
      "\n",
      "============================================================\n",
      "XGBoost Optimization Results:\n",
      "============================================================\n",
      "Best ROC-AUC Score: 1.0000\n",
      "\n",
      "Best Parameters:\n",
      "  colsample_bytree: 0.9315\n",
      "  gamma: 0.1784\n",
      "  learning_rate: 0.0915\n",
      "  max_depth: 6\n",
      "  min_child_weight: 5\n",
      "  n_estimators: 140\n",
      "  reg_alpha: 0.2963\n",
      "  reg_lambda: 0.3305\n",
      "  subsample: 0.6063\n"
     ]
    }
   ],
   "source": [
    "# Define hyperparameter search space for XGBoost\n",
    "xgb_param_distributions = {\n",
    "    'n_estimators': randint(100, 500),\n",
    "    'max_depth': randint(3, 10),\n",
    "    'learning_rate': uniform(0.01, 0.29),  # 0.01 to 0.3\n",
    "    'subsample': uniform(0.6, 0.4),  # 0.6 to 1.0\n",
    "    'colsample_bytree': uniform(0.6, 0.4),  # 0.6 to 1.0\n",
    "    'min_child_weight': randint(1, 6),\n",
    "    'gamma': uniform(0, 0.5),\n",
    "    'reg_alpha': uniform(0, 1),\n",
    "    'reg_lambda': uniform(0, 2)\n",
    "}\n",
    "\n",
    "# Create XGBoost model for optimization\n",
    "xgb_model = xgb.XGBClassifier(\n",
    "    random_state=42,\n",
    "    eval_metric='logloss',\n",
    "    use_label_encoder=False,\n",
    "    n_jobs=-1\n",
    ")\n",
    "\n",
    "# Perform RandomizedSearchCV\n",
    "print(\"Starting XGBoost hyperparameter optimization...\")\n",
    "print(\"This may take 5-10 minutes...\\n\")\n",
    "\n",
    "xgb_random_search = RandomizedSearchCV(\n",
    "    xgb_model,\n",
    "    xgb_param_distributions,\n",
    "    n_iter=50,  # Number of parameter combinations to try\n",
    "    cv=cv_strategy,\n",
    "    scoring='roc_auc',\n",
    "    n_jobs=-1,\n",
    "    verbose=1,\n",
    "    random_state=42\n",
    ")\n",
    "\n",
    "# Fit the random search\n",
    "xgb_random_search.fit(X_train, y_train)\n",
    "\n",
    "# Display best parameters and score\n",
    "print(\"\\n\" + \"=\"*60)\n",
    "print(\"XGBoost Optimization Results:\")\n",
    "print(\"=\"*60)\n",
    "print(f\"Best ROC-AUC Score: {xgb_random_search.best_score_:.4f}\")\n",
    "print(f\"\\nBest Parameters:\")\n",
    "for param, value in xgb_random_search.best_params_.items():\n",
    "    print(f\"  {param}: {value:.4f}\" if isinstance(value, float) else f\"  {param}: {value}\")"
   ]
  },
  {
   "cell_type": "markdown",
   "metadata": {},
   "source": [
    "## 5. Hyperparameter Optimization for Neural Network"
   ]
  },
  {
   "cell_type": "code",
   "execution_count": 6,
   "metadata": {},
   "outputs": [
    {
     "name": "stdout",
     "output_type": "stream",
     "text": [
      "Starting Neural Network hyperparameter optimization...\n",
      "This may take 5-10 minutes...\n",
      "\n",
      "Fitting 5 folds for each of 30 candidates, totalling 150 fits\n",
      "\n",
      "============================================================\n",
      "Neural Network Optimization Results:\n",
      "============================================================\n",
      "Best ROC-AUC Score: 0.9029\n",
      "\n",
      "Best Parameters:\n",
      "  activation: relu\n",
      "  alpha: 0.0024\n",
      "  hidden_layer_sizes: (256, 128, 64)\n",
      "  learning_rate: constant\n",
      "  learning_rate_init: 0.0092\n",
      "  max_iter: 432\n",
      "  solver: adam\n"
     ]
    }
   ],
   "source": [
    "# Define hyperparameter search space for Neural Network\n",
    "mlp_param_distributions = {\n",
    "    'hidden_layer_sizes': [\n",
    "        (100,), (200,), (100, 50), (200, 100), \n",
    "        (256, 128), (256, 128, 64), (512, 256, 128)\n",
    "    ],\n",
    "    'activation': ['relu', 'tanh'],\n",
    "    'solver': ['adam', 'sgd'],\n",
    "    'alpha': uniform(0.0001, 0.01),  # L2 regularization\n",
    "    'learning_rate': ['constant', 'adaptive'],\n",
    "    'learning_rate_init': uniform(0.001, 0.01),\n",
    "    'max_iter': randint(200, 500)\n",
    "}\n",
    "\n",
    "# Create MLP model for optimization\n",
    "mlp_model = MLPClassifier(\n",
    "    random_state=42,\n",
    "    early_stopping=True,\n",
    "    validation_fraction=0.1,\n",
    "    n_iter_no_change=10\n",
    ")\n",
    "\n",
    "# Perform RandomizedSearchCV\n",
    "print(\"Starting Neural Network hyperparameter optimization...\")\n",
    "print(\"This may take 5-10 minutes...\\n\")\n",
    "\n",
    "mlp_random_search = RandomizedSearchCV(\n",
    "    mlp_model,\n",
    "    mlp_param_distributions,\n",
    "    n_iter=30,  # Fewer iterations as NN training is slower\n",
    "    cv=cv_strategy,\n",
    "    scoring='roc_auc',\n",
    "    n_jobs=-1,\n",
    "    verbose=1,\n",
    "    random_state=42\n",
    ")\n",
    "\n",
    "# Fit the random search\n",
    "mlp_random_search.fit(X_train, y_train)\n",
    "\n",
    "# Display best parameters and score\n",
    "print(\"\\n\" + \"=\"*60)\n",
    "print(\"Neural Network Optimization Results:\")\n",
    "print(\"=\"*60)\n",
    "print(f\"Best ROC-AUC Score: {mlp_random_search.best_score_:.4f}\")\n",
    "print(f\"\\nBest Parameters:\")\n",
    "for param, value in mlp_random_search.best_params_.items():\n",
    "    print(f\"  {param}: {value:.4f}\" if isinstance(value, float) else f\"  {param}: {value}\")"
   ]
  },
  {
   "cell_type": "markdown",
   "metadata": {},
   "source": [
    "## 6. Create Optimized Ensemble Model"
   ]
  },
  {
   "cell_type": "code",
   "execution_count": 7,
   "metadata": {},
   "outputs": [
    {
     "name": "stdout",
     "output_type": "stream",
     "text": [
      "Creating ensemble with optimized models...\n",
      "\n",
      "Meta-Model CV ROC-AUC: 1.0000 (+/- 0.0000)\n"
     ]
    }
   ],
   "source": [
    "# Get the best models\n",
    "best_xgb = xgb_random_search.best_estimator_\n",
    "best_mlp = mlp_random_search.best_estimator_\n",
    "\n",
    "print(\"Creating ensemble with optimized models...\\n\")\n",
    "\n",
    "# Train best models on full training set\n",
    "best_xgb.fit(X_train, y_train)\n",
    "best_mlp.fit(X_train, y_train)\n",
    "\n",
    "# Generate predictions for stacking\n",
    "xgb_train_proba = best_xgb.predict_proba(X_train)[:, 1]\n",
    "mlp_train_proba = best_mlp.predict_proba(X_train)[:, 1]\n",
    "\n",
    "xgb_test_proba = best_xgb.predict_proba(X_test)[:, 1]\n",
    "mlp_test_proba = best_mlp.predict_proba(X_test)[:, 1]\n",
    "\n",
    "# Create stacked features\n",
    "stack_train = np.column_stack((xgb_train_proba, mlp_train_proba))\n",
    "stack_test = np.column_stack((xgb_test_proba, mlp_test_proba))\n",
    "\n",
    "# Train meta-model with cross-validation\n",
    "meta_model = LogisticRegression(max_iter=1000, random_state=42)\n",
    "\n",
    "# Evaluate meta-model with CV\n",
    "meta_cv_scores = cross_val_score(\n",
    "    meta_model, stack_train, y_train,\n",
    "    cv=cv_strategy,\n",
    "    scoring='roc_auc',\n",
    "    n_jobs=-1\n",
    ")\n",
    "\n",
    "print(f\"Meta-Model CV ROC-AUC: {meta_cv_scores.mean():.4f} (+/- {meta_cv_scores.std() * 2:.4f})\")\n",
    "\n",
    "# Fit meta-model on full training set\n",
    "meta_model.fit(stack_train, y_train)\n",
    "\n",
    "# Generate final predictions\n",
    "ensemble_pred = meta_model.predict(stack_test)\n",
    "ensemble_proba = meta_model.predict_proba(stack_test)[:, 1]"
   ]
  },
  {
   "cell_type": "markdown",
   "metadata": {},
   "source": [
    "## 7. Compare All Models Performance"
   ]
  },
  {
   "cell_type": "code",
   "execution_count": 8,
   "metadata": {},
   "outputs": [
    {
     "name": "stdout",
     "output_type": "stream",
     "text": [
      "\n",
      "================================================================================\n",
      "FINAL MODEL COMPARISON (Test Set Performance)\n",
      "================================================================================\n",
      "Model                          Accuracy     F1-Score     ROC-AUC     \n",
      "--------------------------------------------------------------------------------\n",
      "XGBoost (Baseline)             1.0000       1.0000       1.0000      \n",
      "XGBoost (Optimized)            1.0000       1.0000       1.0000      \n",
      "Neural Network (Baseline)      0.7300       0.7632       0.8520      \n",
      "Neural Network (Optimized)     0.6250       0.6637       0.7250      \n",
      "Ensemble (Optimized)           1.0000       1.0000       1.0000      \n",
      "================================================================================\n",
      "\n",
      "================================================================================\n",
      "IMPROVEMENTS FROM OPTIMIZATION\n",
      "================================================================================\n",
      "XGBoost ROC-AUC Improvement: +0.00%\n",
      "Neural Network ROC-AUC Improvement: -14.91%\n",
      "================================================================================\n"
     ]
    }
   ],
   "source": [
    "# Evaluate all models on test set\n",
    "results = {}\n",
    "\n",
    "# Baseline XGBoost\n",
    "baseline_xgb = baseline_models['XGBoost (Baseline)']\n",
    "baseline_xgb.fit(X_train, y_train)\n",
    "baseline_xgb_pred = baseline_xgb.predict(X_test)\n",
    "baseline_xgb_proba = baseline_xgb.predict_proba(X_test)[:, 1]\n",
    "\n",
    "# Baseline MLP\n",
    "baseline_mlp = baseline_models['Neural Network (Baseline)']\n",
    "baseline_mlp.fit(X_train, y_train)\n",
    "baseline_mlp_pred = baseline_mlp.predict(X_test)\n",
    "baseline_mlp_proba = baseline_mlp.predict_proba(X_test)[:, 1]\n",
    "\n",
    "# Optimized models predictions\n",
    "opt_xgb_pred = best_xgb.predict(X_test)\n",
    "opt_mlp_pred = best_mlp.predict(X_test)\n",
    "\n",
    "# Store results\n",
    "models_evaluation = {\n",
    "    'XGBoost (Baseline)': {\n",
    "        'predictions': baseline_xgb_pred,\n",
    "        'probabilities': baseline_xgb_proba\n",
    "    },\n",
    "    'XGBoost (Optimized)': {\n",
    "        'predictions': opt_xgb_pred,\n",
    "        'probabilities': xgb_test_proba\n",
    "    },\n",
    "    'Neural Network (Baseline)': {\n",
    "        'predictions': baseline_mlp_pred,\n",
    "        'probabilities': baseline_mlp_proba\n",
    "    },\n",
    "    'Neural Network (Optimized)': {\n",
    "        'predictions': opt_mlp_pred,\n",
    "        'probabilities': mlp_test_proba\n",
    "    },\n",
    "    'Ensemble (Optimized)': {\n",
    "        'predictions': ensemble_pred,\n",
    "        'probabilities': ensemble_proba\n",
    "    }\n",
    "}\n",
    "\n",
    "# Calculate metrics for all models\n",
    "print(\"\\n\" + \"=\"*80)\n",
    "print(\"FINAL MODEL COMPARISON (Test Set Performance)\")\n",
    "print(\"=\"*80)\n",
    "print(f\"{'Model':<30} {'Accuracy':<12} {'F1-Score':<12} {'ROC-AUC':<12}\")\n",
    "print(\"-\"*80)\n",
    "\n",
    "comparison_results = {}\n",
    "for name, data in models_evaluation.items():\n",
    "    acc = accuracy_score(y_test, data['predictions'])\n",
    "    f1 = f1_score(y_test, data['predictions'])\n",
    "    roc_auc = roc_auc_score(y_test, data['probabilities'])\n",
    "    \n",
    "    comparison_results[name] = {\n",
    "        'accuracy': acc,\n",
    "        'f1_score': f1,\n",
    "        'roc_auc': roc_auc\n",
    "    }\n",
    "    \n",
    "    print(f\"{name:<30} {acc:<12.4f} {f1:<12.4f} {roc_auc:<12.4f}\")\n",
    "\n",
    "print(\"=\"*80)\n",
    "\n",
    "# Calculate improvements\n",
    "print(\"\\n\" + \"=\"*80)\n",
    "print(\"IMPROVEMENTS FROM OPTIMIZATION\")\n",
    "print(\"=\"*80)\n",
    "\n",
    "xgb_improvement = (\n",
    "    (comparison_results['XGBoost (Optimized)']['roc_auc'] - \n",
    "     comparison_results['XGBoost (Baseline)']['roc_auc']) / \n",
    "    comparison_results['XGBoost (Baseline)']['roc_auc'] * 100\n",
    ")\n",
    "\n",
    "mlp_improvement = (\n",
    "    (comparison_results['Neural Network (Optimized)']['roc_auc'] - \n",
    "     comparison_results['Neural Network (Baseline)']['roc_auc']) / \n",
    "    comparison_results['Neural Network (Baseline)']['roc_auc'] * 100\n",
    ")\n",
    "\n",
    "print(f\"XGBoost ROC-AUC Improvement: {xgb_improvement:+.2f}%\")\n",
    "print(f\"Neural Network ROC-AUC Improvement: {mlp_improvement:+.2f}%\")\n",
    "print(\"=\"*80)"
   ]
  },
  {
   "cell_type": "markdown",
   "metadata": {},
   "source": [
    "## 9. Feature Importance Analysis (Optimized XGBoost)"
   ]
  },
  {
   "cell_type": "code",
   "execution_count": 9,
   "metadata": {},
   "outputs": [
    {
     "data": {
      "image/png": "[encoded data removed]",
      "text/plain": [
       "<Figure size 1000x800 with 1 Axes>"
      ]
     },
     "metadata": {},
     "output_type": "display_data"
    },
    {
     "name": "stdout",
     "output_type": "stream",
     "text": [
      "\n",
      "Top 10 Most Important Features:\n",
      "            feature  importance\n",
      "        total_sales    0.383647\n",
      "avg_sales_per_month    0.372408\n",
      "      sales_month_1    0.077118\n",
      "      sales_month_3    0.044510\n",
      "     sales_month_11    0.031944\n",
      "     sales_month_10    0.030393\n",
      "      sales_month_2    0.020142\n",
      "      sales_month_8    0.012786\n",
      "            emb_540    0.012268\n",
      "      sales_month_7    0.008035\n"
     ]
    }
   ],
   "source": [
    "# Get feature importance from optimized XGBoost\n",
    "feature_importance = best_xgb.feature_importances_\n",
    "feature_names = X.columns\n",
    "\n",
    "# Create DataFrame for better visualization\n",
    "importance_df = pd.DataFrame({\n",
    "    'feature': feature_names,\n",
    "    'importance': feature_importance\n",
    "}).sort_values('importance', ascending=False).head(20)\n",
    "\n",
    "# Plot feature importance\n",
    "plt.figure(figsize=(10, 8))\n",
    "plt.barh(importance_df['feature'], importance_df['importance'])\n",
    "plt.xlabel('Feature Importance')\n",
    "plt.title('Top 20 Most Important Features (Optimized XGBoost)')\n",
    "plt.gca().invert_yaxis()\n",
    "plt.tight_layout()\n",
    "plt.show()\n",
    "\n",
    "print(\"\\nTop 10 Most Important Features:\")\n",
    "print(importance_df.head(10).to_string(index=False))"
   ]
  },
  {
   "cell_type": "markdown",
   "metadata": {},
   "source": [
    "## 10. Save Optimized Models and Results"
   ]
  },
  {
   "cell_type": "code",
   "execution_count": 10,
   "metadata": {},
   "outputs": [
    {
     "name": "stdout",
     "output_type": "stream",
     "text": [
      "Saved: ../models/optimized\\xgboost_optimized.pkl\n",
      "Saved: ../models/optimized\\neural_network_optimized.pkl\n",
      "Saved: ../models/optimized\\meta_model_optimized.pkl\n",
      "\n",
      "Saved optimization results: ../models/optimized\\optimization_results.json\n",
      "\n",
      "============================================================\n",
      "✅ Model optimization complete!\n",
      "============================================================\n",
      "Best Model: Ensemble (Optimized)\n",
      "ROC-AUC Score: 1.0000\n",
      "All optimized models saved in: ../models/optimized\n"
     ]
    }
   ],
   "source": [
    "# Create directory for optimized models\n",
    "optimized_dir = '../models/optimized'\n",
    "os.makedirs(optimized_dir, exist_ok=True)\n",
    "\n",
    "# Save optimized models\n",
    "model_files = {\n",
    "    'xgboost_optimized.pkl': best_xgb,\n",
    "    'neural_network_optimized.pkl': best_mlp,\n",
    "    'meta_model_optimized.pkl': meta_model\n",
    "}\n",
    "\n",
    "for filename, model in model_files.items():\n",
    "    filepath = os.path.join(optimized_dir, filename)\n",
    "    joblib.dump(model, filepath)\n",
    "    print(f\"Saved: {filepath}\")\n",
    "\n",
    "# Save hyperparameters and results\n",
    "optimization_results = {\n",
    "    'timestamp': datetime.now().isoformat(),\n",
    "    'cv_strategy': '5-fold Stratified K-Fold',\n",
    "    'xgboost': {\n",
    "        'best_params': xgb_random_search.best_params_,\n",
    "        'cv_score': xgb_random_search.best_score_,\n",
    "        'test_performance': comparison_results['XGBoost (Optimized)']\n",
    "    },\n",
    "    'neural_network': {\n",
    "        'best_params': mlp_random_search.best_params_,\n",
    "        'cv_score': mlp_random_search.best_score_,\n",
    "        'test_performance': comparison_results['Neural Network (Optimized)']\n",
    "    },\n",
    "    'ensemble': {\n",
    "        'cv_score': meta_cv_scores.mean(),\n",
    "        'test_performance': comparison_results['Ensemble (Optimized)']\n",
    "    },\n",
    "    'improvements': {\n",
    "        'xgboost_roc_auc_improvement': f\"{xgb_improvement:+.2f}%\",\n",
    "        'neural_network_roc_auc_improvement': f\"{mlp_improvement:+.2f}%\"\n",
    "    }\n",
    "}\n",
    "\n",
    "# Save results as JSON\n",
    "import json\n",
    "results_path = os.path.join(optimized_dir, 'optimization_results.json')\n",
    "with open(results_path, 'w') as f:\n",
    "    json.dump(optimization_results, f, indent=4, default=str)\n",
    "print(f\"\\nSaved optimization results: {results_path}\")\n",
    "\n",
    "print(\"\\n\" + \"=\"*60)\n",
    "print(\"✅ Model optimization complete!\")\n",
    "print(\"=\"*60)\n",
    "print(f\"Best Model: Ensemble (Optimized)\")\n",
    "print(f\"ROC-AUC Score: {comparison_results['Ensemble (Optimized)']['roc_auc']:.4f}\")\n",
    "print(f\"All optimized models saved in: {optimized_dir}\")"
   ]
  }
 ],
 "metadata": {
  "kernelspec": {
   "display_name": "ecom-predict",
   "language": "python",
   "name": "python3"
  },
  "language_info": {
   "codemirror_mode": {
    "name": "ipython",
    "version": 3
   },
   "file_extension": ".py",
   "mimetype": "text/x-python",
   "name": "python",
   "nbconvert_exporter": "python",
   "pygments_lexer": "ipython3",
   "version": "3.11.13"
  }
 },
 "nbformat": 4,
 "nbformat_minor": 4
}
