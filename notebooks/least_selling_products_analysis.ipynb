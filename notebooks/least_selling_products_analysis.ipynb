{
 "cells": [
  {
   "cell_type": "markdown",
   "id": "c234b69e",
   "metadata": {},
   "source": [
    "## Products with Least Selling Percentage Analysis\n",
    "\n",
    "\n",
    "### Objective\n",
    "- Load and explore the ecommerce sales dataset\n",
    "- Calculate selling percentages for each product\n",
    "- Filter products with the lowest selling percentages\n",
    "- Create interactive visualizations to understand underperforming products"
   ]
  },
  {
   "cell_type": "code",
   "execution_count": 17,
   "id": "bfcfb4ea",
   "metadata": {},
   "outputs": [
    {
     "name": "stdout",
     "output_type": "stream",
     "text": [
      "Libraries imported successfully!\n"
     ]
    }
   ],
   "source": [
    "import pandas as pd\n",
    "import numpy as np\n",
    "import plotly.express as px\n",
    "import plotly.graph_objects as go\n",
    "from plotly.subplots import make_subplots\n",
    "import warnings\n",
    "warnings.filterwarnings('ignore')\n",
    "\n",
    "print(\"Libraries imported successfully!\")"
   ]
  },
  {
   "cell_type": "code",
   "execution_count": 18,
   "id": "053fb251",
   "metadata": {},
   "outputs": [
    {
     "name": "stdout",
     "output_type": "stream",
     "text": [
      "Results directory created/verified: ../results\n"
     ]
    }
   ],
   "source": [
    "# Create results directory\n",
    "import os\n",
    "\n",
    "# Create results directory if it doesn't exist\n",
    "results_dir = '../results'\n",
    "os.makedirs(results_dir, exist_ok=True)\n",
    "print(f\"Results directory created/verified: {results_dir}\")"
   ]
  },
  {
   "cell_type": "markdown",
   "id": "fb4fddfc",
   "metadata": {},
   "source": [
    "### 2. Explore Dataset"
   ]
  },
  {
   "cell_type": "code",
   "execution_count": 19,
   "id": "df171d4b",
   "metadata": {},
   "outputs": [
    {
     "name": "stdout",
     "output_type": "stream",
     "text": [
      "Dataset shape: (1000, 18)\n",
      "\n",
      "Column names:\n",
      "['product_id', 'product_name', 'category', 'price', 'review_score', 'review_count', 'sales_month_1', 'sales_month_2', 'sales_month_3', 'sales_month_4', 'sales_month_5', 'sales_month_6', 'sales_month_7', 'sales_month_8', 'sales_month_9', 'sales_month_10', 'sales_month_11', 'sales_month_12']\n",
      "\n",
      "First few rows:\n",
      "   product_id    product_name        category   price  review_score  \\\n",
      "0           1          Hoodie        Clothing  190.40           1.7   \n",
      "1           2    Cookware Set  Home & Kitchen  475.60           3.2   \n",
      "2           3       Train Set            Toys  367.34           4.5   \n",
      "3           4      Remote Car            Toys  301.34           3.9   \n",
      "4           5  Self-Help Book           Books   82.23           4.2   \n",
      "\n",
      "   review_count  sales_month_1  sales_month_2  sales_month_3  sales_month_4  \\\n",
      "0           220            479            449             92            784   \n",
      "1           903             21            989            861            863   \n",
      "2           163            348            558            567            143   \n",
      "3           951            725            678             59             15   \n",
      "4           220            682            451            649            301   \n",
      "\n",
      "   sales_month_5  sales_month_6  sales_month_7  sales_month_8  sales_month_9  \\\n",
      "0            604            904            446            603            807   \n",
      "1            524            128            610            436            176   \n",
      "2            771            409            290            828            340   \n",
      "3            937            421            670            933             56   \n",
      "4            620            293            411            258            854   \n",
      "\n",
      "   sales_month_10  sales_month_11  sales_month_12  \n",
      "0             252             695             306  \n",
      "1             294             772             353  \n",
      "2             667             267             392  \n",
      "3             157             168             203  \n",
      "4             548             770             257  \n",
      "\n",
      "Basic statistics:\n",
      "        product_id        price  review_score  review_count  sales_month_1  \\\n",
      "count  1000.000000  1000.000000   1000.000000   1000.000000    1000.000000   \n",
      "mean    500.500000   247.677130      3.027600    526.506000     498.306000   \n",
      "std     288.819436   144.607983      1.171243    282.269932     289.941478   \n",
      "min       1.000000     7.290000      1.000000      1.000000       0.000000   \n",
      "25%     250.750000   121.810000      2.000000    283.750000     245.500000   \n",
      "50%     500.500000   250.920000      3.100000    543.000000     507.500000   \n",
      "75%     750.250000   373.435000      4.000000    772.000000     740.750000   \n",
      "max    1000.000000   499.860000      5.000000    999.000000    1000.000000   \n",
      "\n",
      "       sales_month_2  sales_month_3  sales_month_4  sales_month_5  \\\n",
      "count    1000.000000    1000.000000    1000.000000    1000.000000   \n",
      "mean      507.661000     506.739000     503.823000     487.194000   \n",
      "std       285.992689     294.010873     286.645567     287.844324   \n",
      "min         2.000000       0.000000       0.000000       0.000000   \n",
      "25%       262.500000     243.750000     261.500000     221.000000   \n",
      "50%       508.000000     493.000000     501.500000     497.000000   \n",
      "75%       756.250000     777.250000     749.500000     727.000000   \n",
      "max      1000.000000     999.000000    1000.000000    1000.000000   \n",
      "\n",
      "       sales_month_6  sales_month_7  sales_month_8  sales_month_9  \\\n",
      "count    1000.000000    1000.000000    1000.000000    1000.000000   \n",
      "mean      491.653000     507.011000     504.569000     491.934000   \n",
      "std       289.234018     291.047287     289.945691     287.514731   \n",
      "min         0.000000       0.000000       5.000000       0.000000   \n",
      "25%       236.000000     254.000000     240.500000     247.250000   \n",
      "50%       479.500000     522.500000     499.500000     495.500000   \n",
      "75%       740.500000     757.250000     762.250000     735.250000   \n",
      "max      1000.000000    1000.000000    1000.000000    1000.000000   \n",
      "\n",
      "       sales_month_10  sales_month_11  sales_month_12  \n",
      "count     1000.000000      1000.00000     1000.000000  \n",
      "mean       514.798000       505.83800      500.386000  \n",
      "std        288.710119       288.82451      278.509459  \n",
      "min          1.000000         0.00000        4.000000  \n",
      "25%        267.000000       251.25000      259.000000  \n",
      "50%        532.000000       502.00000      500.500000  \n",
      "75%        770.250000       761.00000      730.000000  \n",
      "max       1000.000000      1000.00000     1000.000000  \n"
     ]
    }
   ],
   "source": [
    "# Load the raw ecommerce sales data\n",
    "df = pd.read_csv('../data/raw/ecommerce_sales.csv')\n",
    "\n",
    "print(\"Dataset shape:\", df.shape)\n",
    "print(\"\\nColumn names:\")\n",
    "print(df.columns.tolist())\n",
    "print(\"\\nFirst few rows:\")\n",
    "print(df.head())\n",
    "\n",
    "# Basic statistics\n",
    "print(\"\\nBasic statistics:\")\n",
    "print(df.describe())"
   ]
  },
  {
   "cell_type": "markdown",
   "id": "ec300821",
   "metadata": {},
   "source": [
    "### 3. Selling Percentages\n",
    "\n",
    "We'll calculate selling percentages based on:\n",
    "- Total sales across all months\n",
    "- Average monthly sales performance\n",
    "- Sales efficiency relative to price point"
   ]
  },
  {
   "cell_type": "code",
   "execution_count": 20,
   "id": "7211ec0d",
   "metadata": {},
   "outputs": [
    {
     "name": "stdout",
     "output_type": "stream",
     "text": [
      "Sales columns: ['sales_month_1', 'sales_month_2', 'sales_month_3', 'sales_month_4', 'sales_month_5', 'sales_month_6', 'sales_month_7', 'sales_month_8', 'sales_month_9', 'sales_month_10', 'sales_month_11', 'sales_month_12']\n",
      "\n",
      "Selling percentage statistics:\n",
      "       selling_percentage  price_adjusted_selling_percentage\n",
      "count         1000.000000                        1000.000000\n",
      "mean            65.784198                           5.015497\n",
      "std             10.843337                           8.962297\n",
      "min             32.477325                           0.631945\n",
      "25%             58.922522                           1.411440\n",
      "50%             65.479183                           2.127351\n",
      "75%             72.997487                           4.369036\n",
      "max            100.000000                         100.000000\n",
      "\n",
      "Products with 0% selling percentage: 0\n",
      "Products with selling percentage < 10%: 0\n"
     ]
    }
   ],
   "source": [
    "# Identify sales columns\n",
    "sales_cols = [col for col in df.columns if 'sales_month' in col]\n",
    "print(f\"Sales columns: {sales_cols}\")\n",
    "\n",
    "# Calculate key metrics\n",
    "df['total_sales'] = df[sales_cols].sum(axis=1)\n",
    "df['avg_monthly_sales'] = df[sales_cols].mean(axis=1)\n",
    "df['sales_variability'] = df[sales_cols].std(axis=1)\n",
    "\n",
    "# Calculate selling percentage based on total sales relative to maximum possible sales\n",
    "max_total_sales = df['total_sales'].max()\n",
    "df['selling_percentage'] = (df['total_sales'] / max_total_sales) * 100\n",
    "\n",
    "# Calculate price-adjusted selling efficiency\n",
    "# Higher price should ideally lead to higher sales value, so we normalize by price\n",
    "df['sales_per_dollar'] = df['total_sales'] / df['price']\n",
    "max_sales_per_dollar = df['sales_per_dollar'].max()\n",
    "df['price_adjusted_selling_percentage'] = (df['sales_per_dollar'] / max_sales_per_dollar) * 100\n",
    "\n",
    "print(\"\\nSelling percentage statistics:\")\n",
    "print(df[['selling_percentage', 'price_adjusted_selling_percentage']].describe())\n",
    "\n",
    "print(f\"\\nProducts with 0% selling percentage: {(df['selling_percentage'] == 0).sum()}\")\n",
    "print(f\"Products with selling percentage < 10%: {(df['selling_percentage'] < 10).sum()}\")"
   ]
  },
  {
   "cell_type": "markdown",
   "id": "b8e7cd65",
   "metadata": {},
   "source": [
    "## 4. Filter Products with Least Selling Percentage\n",
    "\n",
    "We'll identify products with the lowest selling percentages using different criteria:"
   ]
  },
  {
   "cell_type": "code",
   "execution_count": 21,
   "id": "46c687cc",
   "metadata": {},
   "outputs": [
    {
     "name": "stdout",
     "output_type": "stream",
     "text": [
      "Threshold for bottom 20%: 57.25%\n",
      "Number of products in bottom 20%: 200\n",
      "\n",
      "Products with least selling percentage:\n",
      "        product_name        category   price  total_sales  selling_percentage  \\\n",
      "122  Generic Product          Health  162.41         2972           32.477325   \n",
      "691  Building Blocks            Toys  215.59         3162           34.553601   \n",
      "785        Biography           Books  454.68         3286           35.908644   \n",
      "665            Mixer  Home & Kitchen   80.67         3301           36.072560   \n",
      "135           Kettle  Home & Kitchen  164.99         3391           37.056059   \n",
      "178         Yoga Mat          Sports  468.68         3443           37.624303   \n",
      "94           Monitor     Electronics  386.63         3539           38.673369   \n",
      "814  Generic Product          Health  435.60         3551           38.804502   \n",
      "543          T-Shirt        Clothing  337.49         3564           38.946563   \n",
      "624       Remote Car            Toys  311.04         3641           39.788001   \n",
      "803         Lego Set            Toys  305.32         3646           39.842640   \n",
      "154           Kettle  Home & Kitchen  492.90         3804           41.569227   \n",
      "203            Dress        Clothing  449.78         3840           41.962627   \n",
      "993          Toaster  Home & Kitchen  297.16         3842           41.984483   \n",
      "267   Gaming Console     Electronics  352.73         3873           42.323243   \n",
      "\n",
      "     price_adjusted_selling_percentage  \n",
      "122                           1.600124  \n",
      "691                           1.282481  \n",
      "785                           0.631945  \n",
      "665                           3.578089  \n",
      "135                           1.797165  \n",
      "178                           0.642360  \n",
      "94                            0.800392  \n",
      "814                           0.712821  \n",
      "543                           0.923410  \n",
      "624                           1.023581  \n",
      "803                           1.044189  \n",
      "154                           0.674838  \n",
      "203                           0.746533  \n",
      "993                           1.130537  \n",
      "267                           0.960114  \n",
      "\n",
      "Top 10 worst performing products:\n",
      "        product_name        category   price  total_sales  selling_percentage\n",
      "122  Generic Product          Health  162.41         2972           32.477325\n",
      "691  Building Blocks            Toys  215.59         3162           34.553601\n",
      "785        Biography           Books  454.68         3286           35.908644\n",
      "665            Mixer  Home & Kitchen   80.67         3301           36.072560\n",
      "135           Kettle  Home & Kitchen  164.99         3391           37.056059\n",
      "178         Yoga Mat          Sports  468.68         3443           37.624303\n",
      "94           Monitor     Electronics  386.63         3539           38.673369\n",
      "814  Generic Product          Health  435.60         3551           38.804502\n",
      "543          T-Shirt        Clothing  337.49         3564           38.946563\n",
      "624       Remote Car            Toys  311.04         3641           39.788001\n"
     ]
    }
   ],
   "source": [
    "# Filter products with lowest selling percentages (bottom 20%)\n",
    "bottom_20_percent = df['selling_percentage'].quantile(0.2)\n",
    "least_selling_products = df[df['selling_percentage'] <= bottom_20_percent].copy()\n",
    "\n",
    "print(f\"Threshold for bottom 20%: {bottom_20_percent:.2f}%\")\n",
    "print(f\"Number of products in bottom 20%: {len(least_selling_products)}\")\n",
    "\n",
    "# Sort by selling percentage (ascending)\n",
    "least_selling_products = least_selling_products.sort_values('selling_percentage')\n",
    "\n",
    "print(\"\\nProducts with least selling percentage:\")\n",
    "print(least_selling_products[['product_name', 'category', 'price', 'total_sales', 'selling_percentage', 'price_adjusted_selling_percentage']].head(15))\n",
    "\n",
    "# Also get the absolute worst performers (bottom 10 products)\n",
    "worst_performers = df.nsmallest(10, 'selling_percentage')\n",
    "print(f\"\\nTop 10 worst performing products:\")\n",
    "print(worst_performers[['product_name', 'category', 'price', 'total_sales', 'selling_percentage']])"
   ]
  },
  {
   "cell_type": "markdown",
   "id": "44cccc1c",
   "metadata": {},
   "source": [
    "## 5. Create Plotly Visualizations\n",
    "\n",
    "Let's create interactive visualizations to better understand the products with least selling percentages."
   ]
  },
  {
   "cell_type": "code",
   "execution_count": 25,
   "id": "d1e102d0",
   "metadata": {},
   "outputs": [
    {
     "name": "stdout",
     "output_type": "stream",
     "text": [
      "Saved bar chart as HTML to results directory\n",
      "Note: PNG export requires kaleido package. Install with: pip install kaleido\n"
     ]
    },
    {
     "data": {
      "application/vnd.plotly.v1+json": {
       "config": {
        "plotlyServerURL": "https://plot.ly"
       },
       "data": [
        {
         "customdata": {
          "bdata": "hetRuB5NZEAAAAAAADinQFVVVVVV9W5AmpmZmZk5e0AAAAAAAL6rQKuqqqqqfnJA",
          "dtype": "f8",
          "shape": "2, 3"
         },
         "hovertemplate": "Category=Health<br>Selling Percentage (%)=%{x}<br>Product Name=%{y}<br>price=%{customdata[0]}<br>total_sales=%{customdata[1]}<br>avg_monthly_sales=%{customdata[2]}<extra></extra>",
         "legendgroup": "Health",
         "marker": {
          "color": "#636efa",
          "pattern": {
           "shape": ""
          }
         },
         "name": "Health",
         "orientation": "h",
         "showlegend": true,
         "textposition": "auto",
         "type": "bar",
         "x": {
          "bdata": "WQJU+xg9QECnl+3t+WZDQA==",
          "dtype": "f8"
         },
         "xaxis": "x",
         "y": [
          "Generic Product",
          "Generic Product"
         ],
         "yaxis": "y"
        },
        {
         "customdata": {
          "bdata": "exSuR+HyakAAAAAAALSoQAAAAAAAeHBAcT0K16Nwc0AAAAAAAHKsQKuqqqqq9nJAhetRuB4Vc0AAAAAAAHysQFVVVVVV/XJA",
          "dtype": "f8",
          "shape": "3, 3"
         },
         "hovertemplate": "Category=Toys<br>Selling Percentage (%)=%{x}<br>Product Name=%{y}<br>price=%{customdata[0]}<br>total_sales=%{customdata[1]}<br>avg_monthly_sales=%{customdata[2]}<extra></extra>",
         "legendgroup": "Toys",
         "marker": {
          "color": "#EF553B",
          "pattern": {
           "shape": ""
          }
         },
         "name": "Toys",
         "orientation": "h",
         "showlegend": true,
         "textposition": "auto",
         "type": "bar",
         "x": {
          "bdata": "CW9BY9xGQUAwsBo63eRDQP5N5KHb60NA",
          "dtype": "f8"
         },
         "xaxis": "x",
         "y": [
          "Building Blocks",
          "Remote Car",
          "Lego Set"
         ],
         "yaxis": "y"
        },
        {
         "customdata": {
          "bdata": "exSuR+FqfEAAAAAAAKypQFVVVVVVHXFA",
          "dtype": "f8",
          "shape": "1, 3"
         },
         "hovertemplate": "Category=Books<br>Selling Percentage (%)=%{x}<br>Product Name=%{y}<br>price=%{customdata[0]}<br>total_sales=%{customdata[1]}<br>avg_monthly_sales=%{customdata[2]}<extra></extra>",
         "legendgroup": "Books",
         "marker": {
          "color": "#00cc96",
          "pattern": {
           "shape": ""
          }
         },
         "name": "Books",
         "orientation": "h",
         "showlegend": true,
         "textposition": "auto",
         "type": "bar",
         "x": {
          "bdata": "2+svcU70QUA=",
          "dtype": "f8"
         },
         "xaxis": "x",
         "y": [
          "Biography"
         ],
         "yaxis": "y"
        },
        {
         "customdata": {
          "bdata": "exSuR+EqVEAAAAAAAMqpQFVVVVVVMXFASOF6FK6fZEAAAAAAAH6qQFVVVVVVqXFAZmZmZmbOfkAAAAAAALitQAAAAAAA0HNAw/UoXI+SckAAAAAAAASuQKuqqqqqAnRA",
          "dtype": "f8",
          "shape": "4, 3"
         },
         "hovertemplate": "Category=Home & Kitchen<br>Selling Percentage (%)=%{x}<br>Product Name=%{y}<br>price=%{customdata[0]}<br>total_sales=%{customdata[1]}<br>avg_monthly_sales=%{customdata[2]}<extra></extra>",
         "legendgroup": "Home & Kitchen",
         "marker": {
          "color": "#ab63fa",
          "pattern": {
           "shape": ""
          }
         },
         "name": "Home & Kitchen",
         "orientation": "h",
         "showlegend": true,
         "textposition": "auto",
         "type": "bar",
         "x": {
          "bdata": "SMWMqEkJQkDR3bn0LIdCQBwvlHHcyERA2URdhgP+REA=",
          "dtype": "f8"
         },
         "xaxis": "x",
         "y": [
          "Mixer",
          "Kettle",
          "Kettle",
          "Toaster"
         ],
         "yaxis": "y"
        },
        {
         "customdata": {
          "bdata": "exSuR+FKfUAAAAAAAOaqQKuqqqqq7nFA",
          "dtype": "f8",
          "shape": "1, 3"
         },
         "hovertemplate": "Category=Sports<br>Selling Percentage (%)=%{x}<br>Product Name=%{y}<br>price=%{customdata[0]}<br>total_sales=%{customdata[1]}<br>avg_monthly_sales=%{customdata[2]}<extra></extra>",
         "legendgroup": "Sports",
         "marker": {
          "color": "#FFA15A",
          "pattern": {
           "shape": ""
          }
         },
         "name": "Sports",
         "orientation": "h",
         "showlegend": true,
         "textposition": "auto",
         "type": "bar",
         "x": {
          "bdata": "neAdLOnPQkA=",
          "dtype": "f8"
         },
         "xaxis": "x",
         "y": [
          "Yoga Mat"
         ],
         "yaxis": "y"
        },
        {
         "customdata": {
          "bdata": "rkfhehQqeEAAAAAAAKarQKuqqqqqbnJASOF6FK4LdkAAAAAAAEKuQAAAAAAALHRA",
          "dtype": "f8",
          "shape": "2, 3"
         },
         "hovertemplate": "Category=Electronics<br>Selling Percentage (%)=%{x}<br>Product Name=%{y}<br>price=%{customdata[0]}<br>total_sales=%{customdata[1]}<br>avg_monthly_sales=%{customdata[2]}<extra></extra>",
         "legendgroup": "Electronics",
         "marker": {
          "color": "#19d3f3",
          "pattern": {
           "shape": ""
          }
         },
         "name": "Electronics",
         "orientation": "h",
         "showlegend": true,
         "textposition": "auto",
         "type": "bar",
         "x": {
          "bdata": "UYPW9DBWQ0AN5NgJYClFQA==",
          "dtype": "f8"
         },
         "xaxis": "x",
         "y": [
          "Monitor",
          "Gaming Console"
         ],
         "yaxis": "y"
        },
        {
         "customdata": {
          "bdata": "pHA9CtcXdUAAAAAAANirQAAAAAAAkHJAFK5H4XocfEAAAAAAAACuQAAAAAAAAHRA",
          "dtype": "f8",
          "shape": "2, 3"
         },
         "hovertemplate": "Category=Clothing<br>Selling Percentage (%)=%{x}<br>Product Name=%{y}<br>price=%{customdata[0]}<br>total_sales=%{customdata[1]}<br>avg_monthly_sales=%{customdata[2]}<extra></extra>",
         "legendgroup": "Clothing",
         "marker": {
          "color": "#FF6692",
          "pattern": {
           "shape": ""
          }
         },
         "name": "Clothing",
         "orientation": "h",
         "showlegend": true,
         "textposition": "auto",
         "type": "bar",
         "x": {
          "bdata": "WpjG+yh5Q0AgbNlcN/tEQA==",
          "dtype": "f8"
         },
         "xaxis": "x",
         "y": [
          "T-Shirt",
          "Dress"
         ],
         "yaxis": "y"
        }
       ],
       "layout": {
        "barmode": "relative",
        "height": 600,
        "legend": {
         "title": {
          "text": "Category"
         },
         "tracegroupgap": 0
        },
        "showlegend": true,
        "template": {
         "data": {
          "bar": [
           {
            "error_x": {
             "color": "#2a3f5f"
            },
            "error_y": {
             "color": "#2a3f5f"
            },
            "marker": {
             "line": {
              "color": "#E5ECF6",
              "width": 0.5
             },
             "pattern": {
              "fillmode": "overlay",
              "size": 10,
              "solidity": 0.2
             }
            },
            "type": "bar"
           }
          ],
          "barpolar": [
           {
            "marker": {
             "line": {
              "color": "#E5ECF6",
              "width": 0.5
             },
             "pattern": {
              "fillmode": "overlay",
              "size": 10,
              "solidity": 0.2
             }
            },
            "type": "barpolar"
           }
          ],
          "carpet": [
           {
            "aaxis": {
             "endlinecolor": "#2a3f5f",
             "gridcolor": "white",
             "linecolor": "white",
             "minorgridcolor": "white",
             "startlinecolor": "#2a3f5f"
            },
            "baxis": {
             "endlinecolor": "#2a3f5f",
             "gridcolor": "white",
             "linecolor": "white",
             "minorgridcolor": "white",
             "startlinecolor": "#2a3f5f"
            },
            "type": "carpet"
           }
          ],
          "choropleth": [
           {
            "colorbar": {
             "outlinewidth": 0,
             "ticks": ""
            },
            "type": "choropleth"
           }
          ],
          "contour": [
           {
            "colorbar": {
             "outlinewidth": 0,
             "ticks": ""
            },
            "colorscale": [
             [
              0,
              "#0d0887"
             ],
             [
              0.1111111111111111,
              "#46039f"
             ],
             [
              0.2222222222222222,
              "#7201a8"
             ],
             [
              0.3333333333333333,
              "#9c179e"
             ],
             [
              0.4444444444444444,
              "#bd3786"
             ],
             [
              0.5555555555555556,
              "#d8576b"
             ],
             [
              0.6666666666666666,
              "#ed7953"
             ],
             [
              0.7777777777777778,
              "#fb9f3a"
             ],
             [
              0.8888888888888888,
              "#fdca26"
             ],
             [
              1,
              "#f0f921"
             ]
            ],
            "type": "contour"
           }
          ],
          "contourcarpet": [
           {
            "colorbar": {
             "outlinewidth": 0,
             "ticks": ""
            },
            "type": "contourcarpet"
           }
          ],
          "heatmap": [
           {
            "colorbar": {
             "outlinewidth": 0,
             "ticks": ""
            },
            "colorscale": [
             [
              0,
              "#0d0887"
             ],
             [
              0.1111111111111111,
              "#46039f"
             ],
             [
              0.2222222222222222,
              "#7201a8"
             ],
             [
              0.3333333333333333,
              "#9c179e"
             ],
             [
              0.4444444444444444,
              "#bd3786"
             ],
             [
              0.5555555555555556,
              "#d8576b"
             ],
             [
              0.6666666666666666,
              "#ed7953"
             ],
             [
              0.7777777777777778,
              "#fb9f3a"
             ],
             [
              0.8888888888888888,
              "#fdca26"
             ],
             [
              1,
              "#f0f921"
             ]
            ],
            "type": "heatmap"
           }
          ],
          "histogram": [
           {
            "marker": {
             "pattern": {
              "fillmode": "overlay",
              "size": 10,
              "solidity": 0.2
             }
            },
            "type": "histogram"
           }
          ],
          "histogram2d": [
           {
            "colorbar": {
             "outlinewidth": 0,
             "ticks": ""
            },
            "colorscale": [
             [
              0,
              "#0d0887"
             ],
             [
              0.1111111111111111,
              "#46039f"
             ],
             [
              0.2222222222222222,
              "#7201a8"
             ],
             [
              0.3333333333333333,
              "#9c179e"
             ],
             [
              0.4444444444444444,
              "#bd3786"
             ],
             [
              0.5555555555555556,
              "#d8576b"
             ],
             [
              0.6666666666666666,
              "#ed7953"
             ],
             [
              0.7777777777777778,
              "#fb9f3a"
             ],
             [
              0.8888888888888888,
              "#fdca26"
             ],
             [
              1,
              "#f0f921"
             ]
            ],
            "type": "histogram2d"
           }
          ],
          "histogram2dcontour": [
           {
            "colorbar": {
             "outlinewidth": 0,
             "ticks": ""
            },
            "colorscale": [
             [
              0,
              "#0d0887"
             ],
             [
              0.1111111111111111,
              "#46039f"
             ],
             [
              0.2222222222222222,
              "#7201a8"
             ],
             [
              0.3333333333333333,
              "#9c179e"
             ],
             [
              0.4444444444444444,
              "#bd3786"
             ],
             [
              0.5555555555555556,
              "#d8576b"
             ],
             [
              0.6666666666666666,
              "#ed7953"
             ],
             [
              0.7777777777777778,
              "#fb9f3a"
             ],
             [
              0.8888888888888888,
              "#fdca26"
             ],
             [
              1,
              "#f0f921"
             ]
            ],
            "type": "histogram2dcontour"
           }
          ],
          "mesh3d": [
           {
            "colorbar": {
             "outlinewidth": 0,
             "ticks": ""
            },
            "type": "mesh3d"
           }
          ],
          "parcoords": [
           {
            "line": {
             "colorbar": {
              "outlinewidth": 0,
              "ticks": ""
             }
            },
            "type": "parcoords"
           }
          ],
          "pie": [
           {
            "automargin": true,
            "type": "pie"
           }
          ],
          "scatter": [
           {
            "fillpattern": {
             "fillmode": "overlay",
             "size": 10,
             "solidity": 0.2
            },
            "type": "scatter"
           }
          ],
          "scatter3d": [
           {
            "line": {
             "colorbar": {
              "outlinewidth": 0,
              "ticks": ""
             }
            },
            "marker": {
             "colorbar": {
              "outlinewidth": 0,
              "ticks": ""
             }
            },
            "type": "scatter3d"
           }
          ],
          "scattercarpet": [
           {
            "marker": {
             "colorbar": {
              "outlinewidth": 0,
              "ticks": ""
             }
            },
            "type": "scattercarpet"
           }
          ],
          "scattergeo": [
           {
            "marker": {
             "colorbar": {
              "outlinewidth": 0,
              "ticks": ""
             }
            },
            "type": "scattergeo"
           }
          ],
          "scattergl": [
           {
            "marker": {
             "colorbar": {
              "outlinewidth": 0,
              "ticks": ""
             }
            },
            "type": "scattergl"
           }
          ],
          "scattermap": [
           {
            "marker": {
             "colorbar": {
              "outlinewidth": 0,
              "ticks": ""
             }
            },
            "type": "scattermap"
           }
          ],
          "scattermapbox": [
           {
            "marker": {
             "colorbar": {
              "outlinewidth": 0,
              "ticks": ""
             }
            },
            "type": "scattermapbox"
           }
          ],
          "scatterpolar": [
           {
            "marker": {
             "colorbar": {
              "outlinewidth": 0,
              "ticks": ""
             }
            },
            "type": "scatterpolar"
           }
          ],
          "scatterpolargl": [
           {
            "marker": {
             "colorbar": {
              "outlinewidth": 0,
              "ticks": ""
             }
            },
            "type": "scatterpolargl"
           }
          ],
          "scatterternary": [
           {
            "marker": {
             "colorbar": {
              "outlinewidth": 0,
              "ticks": ""
             }
            },
            "type": "scatterternary"
           }
          ],
          "surface": [
           {
            "colorbar": {
             "outlinewidth": 0,
             "ticks": ""
            },
            "colorscale": [
             [
              0,
              "#0d0887"
             ],
             [
              0.1111111111111111,
              "#46039f"
             ],
             [
              0.2222222222222222,
              "#7201a8"
             ],
             [
              0.3333333333333333,
              "#9c179e"
             ],
             [
              0.4444444444444444,
              "#bd3786"
             ],
             [
              0.5555555555555556,
              "#d8576b"
             ],
             [
              0.6666666666666666,
              "#ed7953"
             ],
             [
              0.7777777777777778,
              "#fb9f3a"
             ],
             [
              0.8888888888888888,
              "#fdca26"
             ],
             [
              1,
              "#f0f921"
             ]
            ],
            "type": "surface"
           }
          ],
          "table": [
           {
            "cells": {
             "fill": {
              "color": "#EBF0F8"
             },
             "line": {
              "color": "white"
             }
            },
            "header": {
             "fill": {
              "color": "#C8D4E3"
             },
             "line": {
              "color": "white"
             }
            },
            "type": "table"
           }
          ]
         },
         "layout": {
          "annotationdefaults": {
           "arrowcolor": "#2a3f5f",
           "arrowhead": 0,
           "arrowwidth": 1
          },
          "autotypenumbers": "strict",
          "coloraxis": {
           "colorbar": {
            "outlinewidth": 0,
            "ticks": ""
           }
          },
          "colorscale": {
           "diverging": [
            [
             0,
             "#8e0152"
            ],
            [
             0.1,
             "#c51b7d"
            ],
            [
             0.2,
             "#de77ae"
            ],
            [
             0.3,
             "#f1b6da"
            ],
            [
             0.4,
             "#fde0ef"
            ],
            [
             0.5,
             "#f7f7f7"
            ],
            [
             0.6,
             "#e6f5d0"
            ],
            [
             0.7,
             "#b8e186"
            ],
            [
             0.8,
             "#7fbc41"
            ],
            [
             0.9,
             "#4d9221"
            ],
            [
             1,
             "#276419"
            ]
           ],
           "sequential": [
            [
             0,
             "#0d0887"
            ],
            [
             0.1111111111111111,
             "#46039f"
            ],
            [
             0.2222222222222222,
             "#7201a8"
            ],
            [
             0.3333333333333333,
             "#9c179e"
            ],
            [
             0.4444444444444444,
             "#bd3786"
            ],
            [
             0.5555555555555556,
             "#d8576b"
            ],
            [
             0.6666666666666666,
             "#ed7953"
            ],
            [
             0.7777777777777778,
             "#fb9f3a"
            ],
            [
             0.8888888888888888,
             "#fdca26"
            ],
            [
             1,
             "#f0f921"
            ]
           ],
           "sequentialminus": [
            [
             0,
             "#0d0887"
            ],
            [
             0.1111111111111111,
             "#46039f"
            ],
            [
             0.2222222222222222,
             "#7201a8"
            ],
            [
             0.3333333333333333,
             "#9c179e"
            ],
            [
             0.4444444444444444,
             "#bd3786"
            ],
            [
             0.5555555555555556,
             "#d8576b"
            ],
            [
             0.6666666666666666,
             "#ed7953"
            ],
            [
             0.7777777777777778,
             "#fb9f3a"
            ],
            [
             0.8888888888888888,
             "#fdca26"
            ],
            [
             1,
             "#f0f921"
            ]
           ]
          },
          "colorway": [
           "#636efa",
           "#EF553B",
           "#00cc96",
           "#ab63fa",
           "#FFA15A",
           "#19d3f3",
           "#FF6692",
           "#B6E880",
           "#FF97FF",
           "#FECB52"
          ],
          "font": {
           "color": "#2a3f5f"
          },
          "geo": {
           "bgcolor": "white",
           "lakecolor": "white",
           "landcolor": "#E5ECF6",
           "showlakes": true,
           "showland": true,
           "subunitcolor": "white"
          },
          "hoverlabel": {
           "align": "left"
          },
          "hovermode": "closest",
          "mapbox": {
           "style": "light"
          },
          "paper_bgcolor": "white",
          "plot_bgcolor": "#E5ECF6",
          "polar": {
           "angularaxis": {
            "gridcolor": "white",
            "linecolor": "white",
            "ticks": ""
           },
           "bgcolor": "#E5ECF6",
           "radialaxis": {
            "gridcolor": "white",
            "linecolor": "white",
            "ticks": ""
           }
          },
          "scene": {
           "xaxis": {
            "backgroundcolor": "#E5ECF6",
            "gridcolor": "white",
            "gridwidth": 2,
            "linecolor": "white",
            "showbackground": true,
            "ticks": "",
            "zerolinecolor": "white"
           },
           "yaxis": {
            "backgroundcolor": "#E5ECF6",
            "gridcolor": "white",
            "gridwidth": 2,
            "linecolor": "white",
            "showbackground": true,
            "ticks": "",
            "zerolinecolor": "white"
           },
           "zaxis": {
            "backgroundcolor": "#E5ECF6",
            "gridcolor": "white",
            "gridwidth": 2,
            "linecolor": "white",
            "showbackground": true,
            "ticks": "",
            "zerolinecolor": "white"
           }
          },
          "shapedefaults": {
           "line": {
            "color": "#2a3f5f"
           }
          },
          "ternary": {
           "aaxis": {
            "gridcolor": "white",
            "linecolor": "white",
            "ticks": ""
           },
           "baxis": {
            "gridcolor": "white",
            "linecolor": "white",
            "ticks": ""
           },
           "bgcolor": "#E5ECF6",
           "caxis": {
            "gridcolor": "white",
            "linecolor": "white",
            "ticks": ""
           }
          },
          "title": {
           "x": 0.05
          },
          "xaxis": {
           "automargin": true,
           "gridcolor": "white",
           "linecolor": "white",
           "ticks": "",
           "title": {
            "standoff": 15
           },
           "zerolinecolor": "white",
           "zerolinewidth": 2
          },
          "yaxis": {
           "automargin": true,
           "gridcolor": "white",
           "linecolor": "white",
           "ticks": "",
           "title": {
            "standoff": 15
           },
           "zerolinecolor": "white",
           "zerolinewidth": 2
          }
         }
        },
        "title": {
         "text": "Top 15 Products with Least Selling Percentage"
        },
        "xaxis": {
         "anchor": "y",
         "domain": [
          0,
          1
         ],
         "title": {
          "text": "Selling Percentage (%)"
         }
        },
        "yaxis": {
         "anchor": "x",
         "categoryorder": "total ascending",
         "domain": [
          0,
          1
         ],
         "title": {
          "text": "Product Name"
         }
        }
       }
      }
     },
     "metadata": {},
     "output_type": "display_data"
    }
   ],
   "source": [
    "# 1. Bar chart of products with least selling percentage (Bottom 15 products)\n",
    "top_15_worst = df.nsmallest(15, 'selling_percentage')\n",
    "\n",
    "fig1 = px.bar(\n",
    "    top_15_worst,\n",
    "    x='selling_percentage',\n",
    "    y='product_name',\n",
    "    color='category',\n",
    "    title='Top 15 Products with Least Selling Percentage',\n",
    "    labels={\n",
    "        'selling_percentage': 'Selling Percentage (%)',\n",
    "        'product_name': 'Product Name',\n",
    "        'category': 'Category'\n",
    "    },\n",
    "    orientation='h',\n",
    "    hover_data=['price', 'total_sales', 'avg_monthly_sales']\n",
    ")\n",
    "\n",
    "fig1.update_layout(\n",
    "    height=600,\n",
    "    showlegend=True,\n",
    "    yaxis={'categoryorder': 'total ascending'}\n",
    ")\n",
    "\n",
    "# Save the figure\n",
    "fig1.write_html(os.path.join(results_dir, 'least_selling_products_bar_chart.html'))\n",
    "\n",
    "# Try to save as PNG (requires kaleido package)\n",
    "try:\n",
    "    fig1.write_image(os.path.join(results_dir, 'least_selling_products_bar_chart.png'), width=1200, height=600, scale=2)\n",
    "    print(\"Saved bar chart as HTML and PNG to results directory\")\n",
    "except ValueError as e:\n",
    "    if \"kaleido\" in str(e):\n",
    "        print(\"Saved bar chart as HTML to results directory\")\n",
    "        print(\"Note: PNG export requires kaleido package. Install with: pip install kaleido\")\n",
    "    else:\n",
    "        print(f\"Error saving PNG: {e}\")\n",
    "        print(\"Saved bar chart as HTML to results directory\")\n",
    "\n",
    "fig1.show()"
   ]
  },
  {
   "cell_type": "code",
   "execution_count": 26,
   "id": "baa26c81",
   "metadata": {},
   "outputs": [
    {
     "name": "stdout",
     "output_type": "stream",
     "text": [
      "Saved scatter plot as HTML to results directory\n",
      "Note: PNG export requires kaleido package. Install with: pip install kaleido\n"
     ]
    },
    {
     "data": {
      "application/vnd.plotly.v1+json": {
       "config": {
        "plotlyServerURL": "https://plot.ly"
       },
       "data": [
        {
         "hovertemplate": "<b>%{hovertext}</b><br><br>Category=Health<br>Price ($)=%{x}<br>Selling Percentage (%)=%{y}<br>Total Sales=%{marker.size}<extra></extra>",
         "hovertext": [
          "Generic Product",
          "Generic Product",
          "Generic Product",
          "Generic Product",
          "Generic Product",
          "Generic Product",
          "Generic Product",
          "Generic Product",
          "Generic Product",
          "Generic Product",
          "Generic Product",
          "Generic Product",
          "Generic Product",
          "Generic Product",
          "Generic Product",
          "Generic Product",
          "Generic Product",
          "Generic Product",
          "Generic Product",
          "Generic Product",
          "Generic Product",
          "Generic Product",
          "Generic Product",
          "Generic Product",
          "Generic Product",
          "Generic Product",
          "Generic Product",
          "Generic Product"
         ],
         "legendgroup": "Health",
         "marker": {
          "color": "#636efa",
          "size": {
           "bdata": "nAvfDbcPTxD1EGoRexGSERQSHhIsEmQSZRLAEsgSFBMlEzoTTRNlE6kTrhPBE+0TNxQ5FDoUThQ=",
           "dtype": "i2"
          },
          "sizemode": "area",
          "sizeref": 13.085,
          "symbol": "circle"
         },
         "mode": "markers",
         "name": "Health",
         "orientation": "v",
         "showlegend": true,
         "type": "scatter",
         "x": {
          "bdata": "hetRuB5NZECamZmZmTl7QHE9Ctej4HhA9ihcj8INc0AzMzMzM+NvQAAAAAAAqHdAw/UoXI+6ZUApXI/C9WgyQJqZmZmZXXpAexSuR+FCaUDXo3A9Cit+QFK4HoXrSXFAUrgehethZEBSuB6F6zlxQOF6FK5HYTtApHA9Cte3dUCPwvUoXC97QOxRuB6FA2ZA9ihcj8KNaECPwvUoXP95QJqZmZmZeU9AhetRuB4pckCkcD0K1zNaQKRwPQrXy3FAUrgeheuhUEDsUbgehetFQD0K16NwCXRAAAAAAADYbUA=",
          "dtype": "f8"
         },
         "xaxis": "x",
         "y": {
          "bdata": "WQJU+xg9QECnl+3t+WZDQEdieTMw+0VAObmdhszPRkA7/Vz8/bdHQIYD/nilW0hAq7Xe2WxzSED88Uq3mJNIQPv4xEFvSUlAmDRYEWxXSUCoIfMzAWtJQObVXr5VuUlAQ8Ig07u6SUAoxw80BTpKQAwqH9o1RUpAhVWxA4SvSkCqB5JkS8dKQEJrehir5EpAIPbeoj7/SkDMHg2V0CBLQGLnjxjuf0tAMIVZgOyGS0APEL4KgKFLQPavEpwL30tAtwIhnI1GTEBw26TFWUlMQMzHZtq/SkxABz+NeblmTEA=",
          "dtype": "f8"
         },
         "yaxis": "y"
        },
        {
         "hovertemplate": "<b>%{hovertext}</b><br><br>Category=Toys<br>Price ($)=%{x}<br>Selling Percentage (%)=%{y}<br>Total Sales=%{marker.size}<extra></extra>",
         "hovertext": [
          "Building Blocks",
          "Remote Car",
          "Lego Set",
          "Action Figure",
          "Toy Robot",
          "Toy Robot",
          "Action Figure",
          "Remote Car",
          "Board Game",
          "Doll",
          "Puzzle",
          "Remote Car",
          "Train Set",
          "Board Game",
          "Building Blocks",
          "Doll",
          "Board Game",
          "Board Game",
          "Action Figure",
          "Remote Car",
          "Board Game",
          "Doll",
          "Puzzle",
          "Puzzle",
          "Puzzle",
          "Building Blocks"
         ],
         "legendgroup": "Toys",
         "marker": {
          "color": "#EF553B",
          "size": {
           "bdata": "Wgw5Dj4ORQ/ID3wQ7RADETYRyBH0ERISFBJPEmYSgxIEE2ETgBOeE7MTtBPnEyIUZxRyFA==",
           "dtype": "i2"
          },
          "sizemode": "area",
          "sizeref": 13.085,
          "symbol": "circle"
         },
         "mode": "markers",
         "name": "Toys",
         "orientation": "v",
         "showlegend": true,
         "type": "scatter",
         "x": {
          "bdata": "exSuR+HyakBxPQrXo3BzQIXrUbgeFXNAj8L1KFxvckCkcD0K1ydwQHE9CtejAF1AUrgeheuJcUAK16NwPUpzQDMzMzMzk1RAXI/C9Sg8fEA9CtejcH03QMP1KFyP2n1AFK5H4XrwfkC4HoXrUeB1QI/C9Shcz3pAuB6F61GodkCkcD0K13tiQM3MzMzMjEpAzczMzMzcYUA9CtejcNVyQHsUrkfhZnBAhetRuB41aUCkcD0K12NyQKRwPQrXi2pA7FG4HoUzaUBxPQrXoyR6QA==",
          "dtype": "f8"
         },
         "xaxis": "x",
         "y": {
          "bdata": "CW9BY9xGQUAwsBo63eRDQP5N5KHb60NAESEe9bpbRUBsFFqU9xJGQH5FtCy+DkdAVppNVs2sR0BL6vcek8tHQLoAmkHpEkhAgc0yGCHfSEBobYeprBxJQEIgQRijRklA+/jEQW9JSUBOcnYK9ptJQJ+u4uchvElAG3XaQbLkSUC8j5K3IplKQFptBUI4G0tAkAyBxZRGS0Bovzo0i3BLQP8iI+jqjUtAWw/l/FCPS0DLJYcfp9ZLQB+fOOgtKUxAEVR9gLGJTEALfNJkFJlMQA==",
          "dtype": "f8"
         },
         "yaxis": "y"
        },
        {
         "hovertemplate": "<b>%{hovertext}</b><br><br>Category=Books<br>Price ($)=%{x}<br>Selling Percentage (%)=%{y}<br>Total Sales=%{marker.size}<extra></extra>",
         "hovertext": [
          "Biography",
          "Science Book",
          "Self-Help Book",
          "Self-Help Book",
          "Science Book",
          "Biography",
          "Comics",
          "Self-Help Book",
          "Science Book",
          "Dictionary",
          "Thriller Novel",
          "Thriller Novel",
          "Cookbook",
          "Cookbook",
          "Novel",
          "Cookbook",
          "Dictionary",
          "Dictionary",
          "Cookbook",
          "Cookbook",
          "Cookbook",
          "Cookbook",
          "Science Book",
          "Comics",
          "Science Book",
          "Novel",
          "History Book",
          "Dictionary",
          "Comics",
          "Self-Help Book",
          "Cookbook"
         ],
         "legendgroup": "Books",
         "marker": {
          "color": "#00cc96",
          "size": {
           "bdata": "1gxmEGkQaxCzEO4Q8RAnEVgRfRHrEfUR9RH8EQ0SEBJDEoQSqRKsEscS4xLuEvkSKhNDE4cTmhOlE/4TTBQ=",
           "dtype": "i2"
          },
          "sizemode": "area",
          "sizeref": 13.085,
          "symbol": "circle"
         },
         "mode": "markers",
         "name": "Books",
         "orientation": "v",
         "showlegend": true,
         "type": "scatter",
         "x": {
          "bdata": "exSuR+FqfEA9CtejcL1FQNejcD0Kh1tAuB6F61GodkCF61G4Hh1wQPYoXI/CgXRASOF6FK43b0B7FK5H4To5QD0K16NwKXZAH4XrUbjSfkBcj8L1KJxeQMP1KFyPxntAAAAAAADgd0AfhetRuJ53QD0K16Nw/TtA9ihcj8I9Y0CuR+F6FC5TQOxRuB6F6ytAFK5H4Xq0VkDsUbgehZteQOF6FK5HiWpA7FG4HoWzYkCPwvUoXA95QPYoXI/CXXBAUrgeheuJZUAzMzMzM9d2QIXrUbgezXxACtejcD0ue0D2KFyPwi1vQKRwPQrXw0RAPQrXo3AheUA=",
          "dtype": "f8"
         },
         "xaxis": "x",
         "y": {
          "bdata": "2+svcU70QUCK9Qlk+O9GQKC6T6Iq9EZAWZPTy/b2RkBgDV6irFtHQLOGD2szrkdAyUtVqWWyR0BOJz0K7v1HQAVlWwN4QkhAZI5iAzl2SEAoHrbuFRBJQMZZSb4SHklAxllJvhIeSUBN0JZP3SdJQHOCd7CkP0lAiUe97tZDSUD3XV8RLYtJQHdhnFYY5klA14qjVtkZSkDtT+mUCx5KQK89XcXPQ0pAzheTCvpqSkDIP+juXHpKQMNnPdO/iUpAeKVbzEnOSkCCukvTQfFKQBiDzlZfUEtA9Q0z4fJqS0DwNYjFVXpLQBxi8/zS9ktATmYJUO1jTEA=",
          "dtype": "f8"
         },
         "yaxis": "y"
        },
        {
         "hovertemplate": "<b>%{hovertext}</b><br><br>Category=Home & Kitchen<br>Price ($)=%{x}<br>Selling Percentage (%)=%{y}<br>Total Sales=%{marker.size}<extra></extra>",
         "hovertext": [
          "Mixer",
          "Kettle",
          "Kettle",
          "Toaster",
          "Dish Rack",
          "Dish Rack",
          "Kettle",
          "Vacuum Cleaner",
          "Microwave",
          "Vacuum Cleaner",
          "Microwave",
          "Air Fryer",
          "Toaster",
          "Coffee Maker",
          "Air Fryer",
          "Cookware Set",
          "Toaster",
          "Dish Rack",
          "Microwave",
          "Vacuum Cleaner",
          "Toaster",
          "Coffee Maker",
          "Kettle",
          "Microwave",
          "Air Fryer",
          "Kettle",
          "Cookware Set",
          "Cookware Set"
         ],
         "legendgroup": "Home & Kitchen",
         "marker": {
          "color": "#ab63fa",
          "size": {
           "bdata": "5Qw/DdwOAg8tD0APghC3EMIQhBGfEaARoxE5EmQSyRLfEi8TchOmE6gT+RP6ExYUKRQvFGgUbhQ=",
           "dtype": "i2"
          },
          "sizemode": "area",
          "sizeref": 13.085,
          "symbol": "circle"
         },
         "mode": "markers",
         "name": "Home & Kitchen",
         "orientation": "v",
         "showlegend": true,
         "type": "scatter",
         "x": {
          "bdata": "exSuR+EqVEBI4XoUrp9kQGZmZmZmzn5Aw/UoXI+SckBxPQrXo5BdQArXo3A9unNAcT0K16OwUkC4HoXrURhFQArXo3A9amFAMzMzMzNTR0CF61G4HrF8QAAAAAAAjHBAexSuR+GycECamZmZmWlZQMP1KFyP6nhA7FG4HoUreUA9CtejcA1rQM3MzMzMPHNAUrgehevNdUD2KFyPwllyQClcj8L1eGNAzczMzMy0aECuR+F6FDZhQEjhehSun21AuB6F61EYUUCF61G4Hgl8QKRwPQrXC3BApHA9CtfDQkA=",
          "dtype": "f8"
         },
         "xaxis": "x",
         "y": {
          "bdata": "SMWMqEkJQkDR3bn0LIdCQBwvlHHcyERA2URdhgP+REBk+O8CKTpFQEODVI28VEVAqc8/qSIXR0DSvmX1RGFHQMzmutmncEdA7ASwlAOASECv8iPFx6VIQAzf5dktp0hAIaQrGGCrSEBaIsxBMH1JQObVXr5VuUlAaBbh7ptGSkBcZou3YWVKQEhDJTRI1UpAgB/mov8yS0BMIkrau3tLQAX7zQOIfktATcQpldTvS0CqsOupOvFLQMmKIe9kGExAqBWGefgyTEDTnxH2XDtMQG5AP5UXi0xAmcrKEXyTTEA=",
          "dtype": "f8"
         },
         "yaxis": "y"
        },
        {
         "hovertemplate": "<b>%{hovertext}</b><br><br>Category=Sports<br>Price ($)=%{x}<br>Selling Percentage (%)=%{y}<br>Total Sales=%{marker.size}<extra></extra>",
         "hovertext": [
          "Yoga Mat",
          "Badminton Racket",
          "Dumbbells",
          "Yoga Mat",
          "Badminton Racket",
          "Running Shoes",
          "Badminton Racket",
          "Football",
          "Tennis Racket",
          "Cricket Bat",
          "Yoga Mat",
          "Football",
          "Tennis Racket",
          "Skipping Rope",
          "Badminton Racket",
          "Yoga Mat",
          "Badminton Racket",
          "Cricket Bat",
          "Running Shoes",
          "Badminton Racket",
          "Running Shoes",
          "Cricket Bat",
          "Dumbbells",
          "Badminton Racket",
          "Yoga Mat",
          "Running Shoes",
          "Yoga Mat",
          "Badminton Racket",
          "Swim Goggles",
          "Tennis Racket"
         ],
         "legendgroup": "Sports",
         "marker": {
          "color": "#FFA15A",
          "size": {
           "bdata": "cw0REB4QjRCzEMQQcBHCEcsRPBI9EkMSSRJKEl4S+xITEy0TMhNBE3kTnBOmE6gT2RPkE/ET+BMNFC4U",
           "dtype": "i2"
          },
          "sizemode": "area",
          "sizeref": 13.085,
          "symbol": "circle"
         },
         "mode": "markers",
         "name": "Sports",
         "orientation": "v",
         "showlegend": true,
         "type": "scatter",
         "x": {
          "bdata": "exSuR+FKfUBSuB6F67FWQJqZmZmZ6WNAzczMzMy8dEDhehSuRzF2QD0K16NwaXxAuB6F61HIZ0BSuB6F67V9QKRwPQrXs1dAZmZmZmayfUAfhetRuDpzQOF6FK5HxXNAFK5H4Xo8dEBxPQrXo3B4QJqZmZmZ+VpAj8L1KFz3ZECF61G4Ht1nQJqZmZmZ2VtAH4XrUbgeREBmZmZmZlZYQFK4HoXr8WtAmpmZmZkpeEAzMzMzM5NWQNejcD0KB1FAZmZmZmbeZkD2KFyPwnU+QGZmZmZmJlVAuB6F61FQcUBSuB6F66FmQOF6FK5HmXxA",
          "dtype": "f8"
         },
         "xaxis": "x",
         "y": {
          "bdata": "neAdLOnPQkDPeqZ/E3lGQIN7f41Ci0ZAo/eUjYUmR0BgDV6irFtHQIW/PgN0c0dAso2J9QlkSEBWQ6ebvNZIQJeSeFZT40hAcOcRgGKBSUDM09OUyIJJQPddXxEti0lAIujqjZGTSUCA1Kyi95RJQLpL00HxsElAfEDB/IuMSkApae/uHa5KQI9qoQp80kpAXQhrcnrZSkDJ4cepde5KQAeWMzTKPEtArua2Cr9tS0BMIkrau3tLQAX7zQOIfktAvDjs/BHDS0C2YEHhdNJLQGhhGu+j5EtA8ddngG7uS0CHO1A0zgtMQHazT+H2OUxA",
          "dtype": "f8"
         },
         "yaxis": "y"
        },
        {
         "hovertemplate": "<b>%{hovertext}</b><br><br>Category=Electronics<br>Price ($)=%{x}<br>Selling Percentage (%)=%{y}<br>Total Sales=%{marker.size}<extra></extra>",
         "hovertext": [
          "Monitor",
          "Gaming Console",
          "Headphones",
          "Monitor",
          "Laptop",
          "Bluetooth Speaker",
          "Camera",
          "Smartphone",
          "Smartwatch",
          "Bluetooth Speaker",
          "Camera",
          "Power Bank",
          "Tablet",
          "Smartwatch",
          "Bluetooth Speaker",
          "Laptop",
          "Gaming Console",
          "Smartphone",
          "Power Bank",
          "Camera",
          "Tablet",
          "Camera",
          "Gaming Console",
          "Power Bank"
         ],
         "legendgroup": "Electronics",
         "marker": {
          "color": "#19d3f3",
          "size": {
           "bdata": "0w0hD74R0BHTEd8R9BEqEjkSmhKhEq4S4RIdE0QTlRObE8sT4RP+EyIUJxRXFGIU",
           "dtype": "i2"
          },
          "sizemode": "area",
          "sizeref": 13.085,
          "symbol": "circle"
         },
         "mode": "markers",
         "name": "Electronics",
         "orientation": "v",
         "showlegend": true,
         "type": "scatter",
         "x": {
          "bdata": "rkfhehQqeEBI4XoUrgt2QPYoXI/CCXFAKVyPwvVgdkDsUbgehctyQHsUrkfhlndAw/UoXI/yfEC4HoXrUUhXQBSuR+F67HZAZmZmZmZWWEBcj8L1KBx7QGZmZmZmBk1A9ihcj8LdYUDXo3A9CrdKQAAAAAAAQDxAH4XrUbh+VkCkcD0K13dyQClcj8L1gGpApHA9CtcTV0D2KFyPwsF7QGZmZmZmVmZAUrgehesRUEAzMzMzM5NyQClcj8L1EHpA",
          "dtype": "f8"
         },
         "xaxis": "x",
         "y": {
          "bdata": "UYPW9DBWQ0AN5NgJYClFQOSRn0gk0UhAZTBCvlHqSEB79Yf8g+5IQNEJn/VM/0hAaG2HqawcSUDvSG8KNWhJQFoizEEwfUlAarFGH94ESkDzJ5SwqA5KQKYobb7XIEpAFT8P4S1oSkDGpIK+GrxKQOCmDein8kpAKHBpefRjS0BT+vT1WGxLQKxLUdp8r0tAoJv7okLOS0AcYvP80vZLQB+fOOgtKUxA7zwCUCwwTEBIjl40UHNMQEG2sxizgkxA",
          "dtype": "f8"
         },
         "yaxis": "y"
        },
        {
         "hovertemplate": "<b>%{hovertext}</b><br><br>Category=Clothing<br>Price ($)=%{x}<br>Selling Percentage (%)=%{y}<br>Total Sales=%{marker.size}<extra></extra>",
         "hovertext": [
          "T-Shirt",
          "Dress",
          "Sweater",
          "Hoodie",
          "T-Shirt",
          "T-Shirt",
          "Jacket",
          "T-Shirt",
          "Jacket",
          "Shirt",
          "Jacket",
          "Shirt",
          "Hoodie",
          "Blazer",
          "Dress",
          "T-Shirt",
          "Dress",
          "Shorts",
          "Hoodie",
          "T-Shirt",
          "T-Shirt",
          "Shirt",
          "Shorts",
          "Sweater",
          "Skirt",
          "Sweater",
          "Blazer",
          "T-Shirt",
          "Dress",
          "Dress",
          "Skirt",
          "Skirt",
          "T-Shirt"
         ],
         "legendgroup": "Clothing",
         "marker": {
          "color": "#FF6692",
          "size": {
           "bdata": "7A0ADyoPYA9nD2oPdw/CDwYQXxCJEJoQ0BAGEa0R+hH/ERESUxK6EuYSDxMVE4ATpxPCE8oTzxPfEygUNhRIFF4U",
           "dtype": "i2"
          },
          "sizemode": "area",
          "sizeref": 13.085,
          "symbol": "circle"
         },
         "mode": "markers",
         "name": "Clothing",
         "orientation": "v",
         "showlegend": true,
         "type": "scatter",
         "x": {
          "bdata": "pHA9CtcXdUAUrkfhehx8QEjhehSua3RAZmZmZmYeaEAzMzMzMyN7QD0K16NwZXVAhetRuB7pc0CuR+F6FA5mQEjhehSuI3RAuB6F61GoXkCF61G4Hu1vQGZmZmZmVm9A9ihcj8LNZ0B7FK5H4VZzQIXrUbgeZW5AFK5H4XoUfkB7FK5H4RZ7QMP1KFyPwnlAAAAAAAB8cECkcD0K1y9+QAAAAAAARHpAAAAAAAA4dkD2KFyPwk1iQD0K16Nw3XVAZmZmZmZmSEC4HoXrUdhdQKRwPQrXl3JA9ihcj8KVTkDhehSuR+lmQMP1KFyPmnhApHA9CtdzakCkcD0K10NiQArXo3A9mmVA",
          "dtype": "f8"
         },
         "xaxis": "x",
         "y": {
          "bdata": "WpjG+yh5Q0AgbNlcN/tEQE4zqsT2NUVA1A6SJX+BRUBbhd+2SYtFQHFKJfV7j0VAJEv+AquhRUBAis4XkwpGQNVSUZuwaUZAAX+80i3mRkAxRo067SBHQFb4bZu0OEdA29NV/DyER0Bgrz1dxc9HQL/fvudcuUhAlPcSJhElSUBjldyNDyxJQOUzfwM9RUlAwSN+XY6hSUD9PIS3oDFKQOTc2Egsb0pAt7fnm4WoSkDiQXMY6rBKQJAMgcWURktAqQ4M7yF9S0Br/H8f5qJLQE9fj8UWrktAHv1YLRW1S0Dnwnd5dstLQEopxGSSMUxAWhZfhydFTEDbtAH9VF5MQM8ErMUafUxA",
          "dtype": "f8"
         },
         "yaxis": "y"
        }
       ],
       "layout": {
        "height": 500,
        "legend": {
         "itemsizing": "constant",
         "title": {
          "text": "Category"
         },
         "tracegroupgap": 0
        },
        "template": {
         "data": {
          "bar": [
           {
            "error_x": {
             "color": "#2a3f5f"
            },
            "error_y": {
             "color": "#2a3f5f"
            },
            "marker": {
             "line": {
              "color": "#E5ECF6",
              "width": 0.5
             },
             "pattern": {
              "fillmode": "overlay",
              "size": 10,
              "solidity": 0.2
             }
            },
            "type": "bar"
           }
          ],
          "barpolar": [
           {
            "marker": {
             "line": {
              "color": "#E5ECF6",
              "width": 0.5
             },
             "pattern": {
              "fillmode": "overlay",
              "size": 10,
              "solidity": 0.2
             }
            },
            "type": "barpolar"
           }
          ],
          "carpet": [
           {
            "aaxis": {
             "endlinecolor": "#2a3f5f",
             "gridcolor": "white",
             "linecolor": "white",
             "minorgridcolor": "white",
             "startlinecolor": "#2a3f5f"
            },
            "baxis": {
             "endlinecolor": "#2a3f5f",
             "gridcolor": "white",
             "linecolor": "white",
             "minorgridcolor": "white",
             "startlinecolor": "#2a3f5f"
            },
            "type": "carpet"
           }
          ],
          "choropleth": [
           {
            "colorbar": {
             "outlinewidth": 0,
             "ticks": ""
            },
            "type": "choropleth"
           }
          ],
          "contour": [
           {
            "colorbar": {
             "outlinewidth": 0,
             "ticks": ""
            },
            "colorscale": [
             [
              0,
              "#0d0887"
             ],
             [
              0.1111111111111111,
              "#46039f"
             ],
             [
              0.2222222222222222,
              "#7201a8"
             ],
             [
              0.3333333333333333,
              "#9c179e"
             ],
             [
              0.4444444444444444,
              "#bd3786"
             ],
             [
              0.5555555555555556,
              "#d8576b"
             ],
             [
              0.6666666666666666,
              "#ed7953"
             ],
             [
              0.7777777777777778,
              "#fb9f3a"
             ],
             [
              0.8888888888888888,
              "#fdca26"
             ],
             [
              1,
              "#f0f921"
             ]
            ],
            "type": "contour"
           }
          ],
          "contourcarpet": [
           {
            "colorbar": {
             "outlinewidth": 0,
             "ticks": ""
            },
            "type": "contourcarpet"
           }
          ],
          "heatmap": [
           {
            "colorbar": {
             "outlinewidth": 0,
             "ticks": ""
            },
            "colorscale": [
             [
              0,
              "#0d0887"
             ],
             [
              0.1111111111111111,
              "#46039f"
             ],
             [
              0.2222222222222222,
              "#7201a8"
             ],
             [
              0.3333333333333333,
              "#9c179e"
             ],
             [
              0.4444444444444444,
              "#bd3786"
             ],
             [
              0.5555555555555556,
              "#d8576b"
             ],
             [
              0.6666666666666666,
              "#ed7953"
             ],
             [
              0.7777777777777778,
              "#fb9f3a"
             ],
             [
              0.8888888888888888,
              "#fdca26"
             ],
             [
              1,
              "#f0f921"
             ]
            ],
            "type": "heatmap"
           }
          ],
          "histogram": [
           {
            "marker": {
             "pattern": {
              "fillmode": "overlay",
              "size": 10,
              "solidity": 0.2
             }
            },
            "type": "histogram"
           }
          ],
          "histogram2d": [
           {
            "colorbar": {
             "outlinewidth": 0,
             "ticks": ""
            },
            "colorscale": [
             [
              0,
              "#0d0887"
             ],
             [
              0.1111111111111111,
              "#46039f"
             ],
             [
              0.2222222222222222,
              "#7201a8"
             ],
             [
              0.3333333333333333,
              "#9c179e"
             ],
             [
              0.4444444444444444,
              "#bd3786"
             ],
             [
              0.5555555555555556,
              "#d8576b"
             ],
             [
              0.6666666666666666,
              "#ed7953"
             ],
             [
              0.7777777777777778,
              "#fb9f3a"
             ],
             [
              0.8888888888888888,
              "#fdca26"
             ],
             [
              1,
              "#f0f921"
             ]
            ],
            "type": "histogram2d"
           }
          ],
          "histogram2dcontour": [
           {
            "colorbar": {
             "outlinewidth": 0,
             "ticks": ""
            },
            "colorscale": [
             [
              0,
              "#0d0887"
             ],
             [
              0.1111111111111111,
              "#46039f"
             ],
             [
              0.2222222222222222,
              "#7201a8"
             ],
             [
              0.3333333333333333,
              "#9c179e"
             ],
             [
              0.4444444444444444,
              "#bd3786"
             ],
             [
              0.5555555555555556,
              "#d8576b"
             ],
             [
              0.6666666666666666,
              "#ed7953"
             ],
             [
              0.7777777777777778,
              "#fb9f3a"
             ],
             [
              0.8888888888888888,
              "#fdca26"
             ],
             [
              1,
              "#f0f921"
             ]
            ],
            "type": "histogram2dcontour"
           }
          ],
          "mesh3d": [
           {
            "colorbar": {
             "outlinewidth": 0,
             "ticks": ""
            },
            "type": "mesh3d"
           }
          ],
          "parcoords": [
           {
            "line": {
             "colorbar": {
              "outlinewidth": 0,
              "ticks": ""
             }
            },
            "type": "parcoords"
           }
          ],
          "pie": [
           {
            "automargin": true,
            "type": "pie"
           }
          ],
          "scatter": [
           {
            "fillpattern": {
             "fillmode": "overlay",
             "size": 10,
             "solidity": 0.2
            },
            "type": "scatter"
           }
          ],
          "scatter3d": [
           {
            "line": {
             "colorbar": {
              "outlinewidth": 0,
              "ticks": ""
             }
            },
            "marker": {
             "colorbar": {
              "outlinewidth": 0,
              "ticks": ""
             }
            },
            "type": "scatter3d"
           }
          ],
          "scattercarpet": [
           {
            "marker": {
             "colorbar": {
              "outlinewidth": 0,
              "ticks": ""
             }
            },
            "type": "scattercarpet"
           }
          ],
          "scattergeo": [
           {
            "marker": {
             "colorbar": {
              "outlinewidth": 0,
              "ticks": ""
             }
            },
            "type": "scattergeo"
           }
          ],
          "scattergl": [
           {
            "marker": {
             "colorbar": {
              "outlinewidth": 0,
              "ticks": ""
             }
            },
            "type": "scattergl"
           }
          ],
          "scattermap": [
           {
            "marker": {
             "colorbar": {
              "outlinewidth": 0,
              "ticks": ""
             }
            },
            "type": "scattermap"
           }
          ],
          "scattermapbox": [
           {
            "marker": {
             "colorbar": {
              "outlinewidth": 0,
              "ticks": ""
             }
            },
            "type": "scattermapbox"
           }
          ],
          "scatterpolar": [
           {
            "marker": {
             "colorbar": {
              "outlinewidth": 0,
              "ticks": ""
             }
            },
            "type": "scatterpolar"
           }
          ],
          "scatterpolargl": [
           {
            "marker": {
             "colorbar": {
              "outlinewidth": 0,
              "ticks": ""
             }
            },
            "type": "scatterpolargl"
           }
          ],
          "scatterternary": [
           {
            "marker": {
             "colorbar": {
              "outlinewidth": 0,
              "ticks": ""
             }
            },
            "type": "scatterternary"
           }
          ],
          "surface": [
           {
            "colorbar": {
             "outlinewidth": 0,
             "ticks": ""
            },
            "colorscale": [
             [
              0,
              "#0d0887"
             ],
             [
              0.1111111111111111,
              "#46039f"
             ],
             [
              0.2222222222222222,
              "#7201a8"
             ],
             [
              0.3333333333333333,
              "#9c179e"
             ],
             [
              0.4444444444444444,
              "#bd3786"
             ],
             [
              0.5555555555555556,
              "#d8576b"
             ],
             [
              0.6666666666666666,
              "#ed7953"
             ],
             [
              0.7777777777777778,
              "#fb9f3a"
             ],
             [
              0.8888888888888888,
              "#fdca26"
             ],
             [
              1,
              "#f0f921"
             ]
            ],
            "type": "surface"
           }
          ],
          "table": [
           {
            "cells": {
             "fill": {
              "color": "#EBF0F8"
             },
             "line": {
              "color": "white"
             }
            },
            "header": {
             "fill": {
              "color": "#C8D4E3"
             },
             "line": {
              "color": "white"
             }
            },
            "type": "table"
           }
          ]
         },
         "layout": {
          "annotationdefaults": {
           "arrowcolor": "#2a3f5f",
           "arrowhead": 0,
           "arrowwidth": 1
          },
          "autotypenumbers": "strict",
          "coloraxis": {
           "colorbar": {
            "outlinewidth": 0,
            "ticks": ""
           }
          },
          "colorscale": {
           "diverging": [
            [
             0,
             "#8e0152"
            ],
            [
             0.1,
             "#c51b7d"
            ],
            [
             0.2,
             "#de77ae"
            ],
            [
             0.3,
             "#f1b6da"
            ],
            [
             0.4,
             "#fde0ef"
            ],
            [
             0.5,
             "#f7f7f7"
            ],
            [
             0.6,
             "#e6f5d0"
            ],
            [
             0.7,
             "#b8e186"
            ],
            [
             0.8,
             "#7fbc41"
            ],
            [
             0.9,
             "#4d9221"
            ],
            [
             1,
             "#276419"
            ]
           ],
           "sequential": [
            [
             0,
             "#0d0887"
            ],
            [
             0.1111111111111111,
             "#46039f"
            ],
            [
             0.2222222222222222,
             "#7201a8"
            ],
            [
             0.3333333333333333,
             "#9c179e"
            ],
            [
             0.4444444444444444,
             "#bd3786"
            ],
            [
             0.5555555555555556,
             "#d8576b"
            ],
            [
             0.6666666666666666,
             "#ed7953"
            ],
            [
             0.7777777777777778,
             "#fb9f3a"
            ],
            [
             0.8888888888888888,
             "#fdca26"
            ],
            [
             1,
             "#f0f921"
            ]
           ],
           "sequentialminus": [
            [
             0,
             "#0d0887"
            ],
            [
             0.1111111111111111,
             "#46039f"
            ],
            [
             0.2222222222222222,
             "#7201a8"
            ],
            [
             0.3333333333333333,
             "#9c179e"
            ],
            [
             0.4444444444444444,
             "#bd3786"
            ],
            [
             0.5555555555555556,
             "#d8576b"
            ],
            [
             0.6666666666666666,
             "#ed7953"
            ],
            [
             0.7777777777777778,
             "#fb9f3a"
            ],
            [
             0.8888888888888888,
             "#fdca26"
            ],
            [
             1,
             "#f0f921"
            ]
           ]
          },
          "colorway": [
           "#636efa",
           "#EF553B",
           "#00cc96",
           "#ab63fa",
           "#FFA15A",
           "#19d3f3",
           "#FF6692",
           "#B6E880",
           "#FF97FF",
           "#FECB52"
          ],
          "font": {
           "color": "#2a3f5f"
          },
          "geo": {
           "bgcolor": "white",
           "lakecolor": "white",
           "landcolor": "#E5ECF6",
           "showlakes": true,
           "showland": true,
           "subunitcolor": "white"
          },
          "hoverlabel": {
           "align": "left"
          },
          "hovermode": "closest",
          "mapbox": {
           "style": "light"
          },
          "paper_bgcolor": "white",
          "plot_bgcolor": "#E5ECF6",
          "polar": {
           "angularaxis": {
            "gridcolor": "white",
            "linecolor": "white",
            "ticks": ""
           },
           "bgcolor": "#E5ECF6",
           "radialaxis": {
            "gridcolor": "white",
            "linecolor": "white",
            "ticks": ""
           }
          },
          "scene": {
           "xaxis": {
            "backgroundcolor": "#E5ECF6",
            "gridcolor": "white",
            "gridwidth": 2,
            "linecolor": "white",
            "showbackground": true,
            "ticks": "",
            "zerolinecolor": "white"
           },
           "yaxis": {
            "backgroundcolor": "#E5ECF6",
            "gridcolor": "white",
            "gridwidth": 2,
            "linecolor": "white",
            "showbackground": true,
            "ticks": "",
            "zerolinecolor": "white"
           },
           "zaxis": {
            "backgroundcolor": "#E5ECF6",
            "gridcolor": "white",
            "gridwidth": 2,
            "linecolor": "white",
            "showbackground": true,
            "ticks": "",
            "zerolinecolor": "white"
           }
          },
          "shapedefaults": {
           "line": {
            "color": "#2a3f5f"
           }
          },
          "ternary": {
           "aaxis": {
            "gridcolor": "white",
            "linecolor": "white",
            "ticks": ""
           },
           "baxis": {
            "gridcolor": "white",
            "linecolor": "white",
            "ticks": ""
           },
           "bgcolor": "#E5ECF6",
           "caxis": {
            "gridcolor": "white",
            "linecolor": "white",
            "ticks": ""
           }
          },
          "title": {
           "x": 0.05
          },
          "xaxis": {
           "automargin": true,
           "gridcolor": "white",
           "linecolor": "white",
           "ticks": "",
           "title": {
            "standoff": 15
           },
           "zerolinecolor": "white",
           "zerolinewidth": 2
          },
          "yaxis": {
           "automargin": true,
           "gridcolor": "white",
           "linecolor": "white",
           "ticks": "",
           "title": {
            "standoff": 15
           },
           "zerolinecolor": "white",
           "zerolinewidth": 2
          }
         }
        },
        "title": {
         "text": "Price vs Selling Percentage (Bottom 20% Products)"
        },
        "xaxis": {
         "anchor": "y",
         "domain": [
          0,
          1
         ],
         "title": {
          "text": "Price ($)"
         }
        },
        "yaxis": {
         "anchor": "x",
         "domain": [
          0,
          1
         ],
         "title": {
          "text": "Selling Percentage (%)"
         }
        }
       }
      }
     },
     "metadata": {},
     "output_type": "display_data"
    }
   ],
   "source": [
    "# 2. Scatter plot: Price vs Selling Percentage for bottom 20% products\n",
    "fig2 = px.scatter(\n",
    "    least_selling_products,\n",
    "    x='price',\n",
    "    y='selling_percentage',\n",
    "    color='category',\n",
    "    size='total_sales',\n",
    "    hover_name='product_name',\n",
    "    title='Price vs Selling Percentage (Bottom 20% Products)',\n",
    "    labels={\n",
    "        'price': 'Price ($)',\n",
    "        'selling_percentage': 'Selling Percentage (%)',\n",
    "        'category': 'Category',\n",
    "        'total_sales': 'Total Sales'\n",
    "    }\n",
    ")\n",
    "\n",
    "fig2.update_layout(height=500)\n",
    "\n",
    "# Save the figure\n",
    "fig2.write_html(os.path.join(results_dir, 'price_vs_selling_percentage_scatter.html'))\n",
    "\n",
    "# Try to save as PNG (requires kaleido package)\n",
    "try:\n",
    "    fig2.write_image(os.path.join(results_dir, 'price_vs_selling_percentage_scatter.png'), width=1200, height=500, scale=2)\n",
    "    print(\"Saved scatter plot as HTML and PNG to results directory\")\n",
    "except ValueError as e:\n",
    "    if \"kaleido\" in str(e):\n",
    "        print(\"Saved scatter plot as HTML to results directory\")\n",
    "        print(\"Note: PNG export requires kaleido package. Install with: pip install kaleido\")\n",
    "    else:\n",
    "        print(f\"Error saving PNG: {e}\")\n",
    "        print(\"Saved scatter plot as HTML to results directory\")\n",
    "\n",
    "fig2.show()"
   ]
  }
 ],
 "metadata": {
  "kernelspec": {
   "display_name": "dsa-python-sales-analysis",
   "language": "python",
   "name": "python3"
  },
  "language_info": {
   "codemirror_mode": {
    "name": "ipython",
    "version": 3
   },
   "file_extension": ".py",
   "mimetype": "text/x-python",
   "name": "python",
   "nbconvert_exporter": "python",
   "pygments_lexer": "ipython3",
   "version": "3.11.13"
  }
 },
 "nbformat": 4,
 "nbformat_minor": 5
}
