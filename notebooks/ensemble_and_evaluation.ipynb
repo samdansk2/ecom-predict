{
 "cells": [
  {
   "cell_type": "code",
   "execution_count": 10,
   "id": "d8fbf15c",
   "metadata": {},
   "outputs": [],
   "source": [
    "import os\n",
    "import pandas as pd\n",
    "import numpy as np\n",
    "from sklearn.model_selection import train_test_split\n",
    "from sklearn.linear_model import LogisticRegression\n",
    "from sklearn.metrics import accuracy_score, f1_score, roc_auc_score\n",
    "import joblib\n",
    "import xgboost as xgb\n",
    "from sklearn.neural_network import MLPClassifier"
   ]
  },
  {
   "cell_type": "code",
   "execution_count": 2,
   "id": "9a8c2bed",
   "metadata": {},
   "outputs": [],
   "source": [
    "# --- Load Data ---\n",
    "df = pd.read_csv('../data/processed/ecommerce_sales_with_embeddings.csv')\n",
    "X = df.drop(columns=['success'])\n",
    "y = df['success']"
   ]
  },
  {
   "cell_type": "code",
   "execution_count": 3,
   "id": "00a1b424",
   "metadata": {},
   "outputs": [],
   "source": [
    "# --- Train-Test Split ---\n",
    "X_train, X_test, y_train, y_test = train_test_split(X, y, test_size=0.2, stratify=y, random_state=42)"
   ]
  },
  {
   "cell_type": "code",
   "execution_count": 4,
   "id": "319fdf26",
   "metadata": {},
   "outputs": [],
   "source": [
    "# --- Base Model 1: XGBoost ---\n",
    "xgb_model = xgb.XGBClassifier(\n",
    "    n_estimators=300, learning_rate=0.05, max_depth=6, subsample=0.8, colsample_bytree=0.8, random_state=42\n",
    ")\n",
    "xgb_model.fit(X_train, y_train)\n",
    "xgb_preds_train = xgb_model.predict_proba(X_train)[:, 1]\n",
    "xgb_preds_test = xgb_model.predict_proba(X_test)[:, 1]"
   ]
  },
  {
   "cell_type": "code",
   "execution_count": 5,
   "id": "1279a8a2",
   "metadata": {},
   "outputs": [
    {
     "name": "stderr",
     "output_type": "stream",
     "text": [
      "c:\\Users\\Sk Samdan\\Desktop\\github\\DSA_in_Python\\.venv\\Lib\\site-packages\\sklearn\\neural_network\\_multilayer_perceptron.py:781: ConvergenceWarning: Stochastic Optimizer: Maximum iterations (20) reached and the optimization hasn't converged yet.\n",
      "  warnings.warn(\n"
     ]
    }
   ],
   "source": [
    "# --- Base Model 2: Neural Network (MLP) ---\n",
    "mlp = MLPClassifier(hidden_layer_sizes=(256, 128), activation='relu', solver='adam', max_iter=20, random_state=42)\n",
    "mlp.fit(X_train, y_train)\n",
    "mlp_preds_train = mlp.predict_proba(X_train)[:, 1]\n",
    "mlp_preds_test = mlp.predict_proba(X_test)[:, 1]"
   ]
  },
  {
   "cell_type": "code",
   "execution_count": 6,
   "id": "aa14be1f",
   "metadata": {},
   "outputs": [],
   "source": [
    "# --- Stacking: Meta Model ---\n",
    "stack_train = np.column_stack((xgb_preds_train, mlp_preds_train))\n",
    "stack_test = np.column_stack((xgb_preds_test, mlp_preds_test))\n",
    "\n",
    "meta_model = LogisticRegression()\n",
    "meta_model.fit(stack_train, y_train)\n",
    "final_preds = meta_model.predict(stack_test)\n",
    "final_proba = meta_model.predict_proba(stack_test)[:, 1]"
   ]
  },
  {
   "cell_type": "code",
   "execution_count": 7,
   "id": "5de13ae1",
   "metadata": {},
   "outputs": [],
   "source": [
    "# --- Metrics ---\n",
    "acc = accuracy_score(y_test, final_preds)\n",
    "f1 = f1_score(y_test, final_preds)\n",
    "roc_auc = roc_auc_score(y_test, final_proba)"
   ]
  },
  {
   "cell_type": "code",
   "execution_count": 11,
   "id": "f51b5908",
   "metadata": {},
   "outputs": [
    {
     "name": "stdout",
     "output_type": "stream",
     "text": [
      "✅ All models saved for deployment.\n"
     ]
    }
   ],
   "source": [
    "#create directories if they don't exist\n",
    "models_dir = '../models'\n",
    "os.makedirs(os.path.join(models_dir, 'xgboost'), exist_ok=True)\n",
    "os.makedirs(os.path.join(models_dir, 'nn'), exist_ok=True)\n",
    "os.makedirs(os.path.join(models_dir, 'meta'), exist_ok=True)\n",
    "\n",
    "# --- Save Models ---\n",
    "joblib.dump(xgb_model, '../models/xgboost/xgb_model.pkl')\n",
    "joblib.dump(mlp, '../models/nn/mlp_model.pkl')\n",
    "joblib.dump(meta_model, '../models/meta/meta_model.pkl')\n",
    "print(\"✅ All models saved for deployment.\")"
   ]
  }
 ],
 "metadata": {
  "kernelspec": {
   "display_name": "dsa-python-sales-analysis",
   "language": "python",
   "name": "python3"
  },
  "language_info": {
   "codemirror_mode": {
    "name": "ipython",
    "version": 3
   },
   "file_extension": ".py",
   "mimetype": "text/x-python",
   "name": "python",
   "nbconvert_exporter": "python",
   "pygments_lexer": "ipython3",
   "version": "3.11.13"
  }
 },
 "nbformat": 4,
 "nbformat_minor": 5
}
